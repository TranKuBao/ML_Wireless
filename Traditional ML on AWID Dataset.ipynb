{
 "cells": [
  {
   "cell_type": "markdown",
   "metadata": {},
   "source": [
    "<h2>Importing modules required for running the code</h2>"
   ]
  },
  {
   "cell_type": "code",
   "execution_count": 2,
   "metadata": {},
   "outputs": [
    {
     "name": "stdout",
     "output_type": "stream",
     "text": [
      "Requirement already satisfied: keras in c:\\users\\lenonvo\\appdata\\local\\packages\\pythonsoftwarefoundation.python.3.10_qbz5n2kfra8p0\\localcache\\local-packages\\python310\\site-packages (2.11.0)\n",
      "Note: you may need to restart the kernel to use updated packages.\n"
     ]
    }
   ],
   "source": [
    "%pip install keras"
   ]
  },
  {
   "cell_type": "code",
   "execution_count": 3,
   "metadata": {},
   "outputs": [
    {
     "name": "stdout",
     "output_type": "stream",
     "text": [
      "Requirement already satisfied: tensorflow in c:\\users\\lenonvo\\appdata\\local\\packages\\pythonsoftwarefoundation.python.3.10_qbz5n2kfra8p0\\localcache\\local-packages\\python310\\site-packages (2.11.1)Note: you may need to restart the kernel to use updated packages.\n",
      "\n",
      "Requirement already satisfied: tensorflow-intel==2.11.1 in c:\\users\\lenonvo\\appdata\\local\\packages\\pythonsoftwarefoundation.python.3.10_qbz5n2kfra8p0\\localcache\\local-packages\\python310\\site-packages (from tensorflow) (2.11.1)\n",
      "Requirement already satisfied: opt-einsum>=2.3.2 in c:\\users\\lenonvo\\appdata\\local\\packages\\pythonsoftwarefoundation.python.3.10_qbz5n2kfra8p0\\localcache\\local-packages\\python310\\site-packages (from tensorflow-intel==2.11.1->tensorflow) (3.3.0)\n",
      "Requirement already satisfied: protobuf<3.20,>=3.9.2 in c:\\users\\lenonvo\\appdata\\local\\packages\\pythonsoftwarefoundation.python.3.10_qbz5n2kfra8p0\\localcache\\local-packages\\python310\\site-packages (from tensorflow-intel==2.11.1->tensorflow) (3.19.6)\n",
      "Requirement already satisfied: numpy>=1.20 in c:\\users\\lenonvo\\appdata\\local\\packages\\pythonsoftwarefoundation.python.3.10_qbz5n2kfra8p0\\localcache\\local-packages\\python310\\site-packages (from tensorflow-intel==2.11.1->tensorflow) (1.24.1)\n",
      "Requirement already satisfied: h5py>=2.9.0 in c:\\users\\lenonvo\\appdata\\local\\packages\\pythonsoftwarefoundation.python.3.10_qbz5n2kfra8p0\\localcache\\local-packages\\python310\\site-packages (from tensorflow-intel==2.11.1->tensorflow) (3.8.0)\n",
      "Requirement already satisfied: absl-py>=1.0.0 in c:\\users\\lenonvo\\appdata\\local\\packages\\pythonsoftwarefoundation.python.3.10_qbz5n2kfra8p0\\localcache\\local-packages\\python310\\site-packages (from tensorflow-intel==2.11.1->tensorflow) (1.4.0)\n",
      "Requirement already satisfied: astunparse>=1.6.0 in c:\\users\\lenonvo\\appdata\\local\\packages\\pythonsoftwarefoundation.python.3.10_qbz5n2kfra8p0\\localcache\\local-packages\\python310\\site-packages (from tensorflow-intel==2.11.1->tensorflow) (1.6.3)\n",
      "Requirement already satisfied: flatbuffers>=2.0 in c:\\users\\lenonvo\\appdata\\local\\packages\\pythonsoftwarefoundation.python.3.10_qbz5n2kfra8p0\\localcache\\local-packages\\python310\\site-packages (from tensorflow-intel==2.11.1->tensorflow) (23.3.3)\n",
      "Requirement already satisfied: six>=1.12.0 in c:\\users\\lenonvo\\appdata\\local\\packages\\pythonsoftwarefoundation.python.3.10_qbz5n2kfra8p0\\localcache\\local-packages\\python310\\site-packages (from tensorflow-intel==2.11.1->tensorflow) (1.16.0)\n",
      "Requirement already satisfied: keras<2.12,>=2.11.0 in c:\\users\\lenonvo\\appdata\\local\\packages\\pythonsoftwarefoundation.python.3.10_qbz5n2kfra8p0\\localcache\\local-packages\\python310\\site-packages (from tensorflow-intel==2.11.1->tensorflow) (2.11.0)\n",
      "Requirement already satisfied: libclang>=13.0.0 in c:\\users\\lenonvo\\appdata\\local\\packages\\pythonsoftwarefoundation.python.3.10_qbz5n2kfra8p0\\localcache\\local-packages\\python310\\site-packages (from tensorflow-intel==2.11.1->tensorflow) (15.0.6.1)\n",
      "Requirement already satisfied: tensorboard<2.12,>=2.11 in c:\\users\\lenonvo\\appdata\\local\\packages\\pythonsoftwarefoundation.python.3.10_qbz5n2kfra8p0\\localcache\\local-packages\\python310\\site-packages (from tensorflow-intel==2.11.1->tensorflow) (2.11.2)\n",
      "Requirement already satisfied: typing-extensions>=3.6.6 in c:\\users\\lenonvo\\appdata\\local\\packages\\pythonsoftwarefoundation.python.3.10_qbz5n2kfra8p0\\localcache\\local-packages\\python310\\site-packages (from tensorflow-intel==2.11.1->tensorflow) (4.5.0)\n",
      "Requirement already satisfied: termcolor>=1.1.0 in c:\\users\\lenonvo\\appdata\\local\\packages\\pythonsoftwarefoundation.python.3.10_qbz5n2kfra8p0\\localcache\\local-packages\\python310\\site-packages (from tensorflow-intel==2.11.1->tensorflow) (2.2.0)\n",
      "Requirement already satisfied: setuptools in c:\\program files\\windowsapps\\pythonsoftwarefoundation.python.3.10_3.10.2800.0_x64__qbz5n2kfra8p0\\lib\\site-packages (from tensorflow-intel==2.11.1->tensorflow) (65.5.0)\n",
      "Requirement already satisfied: google-pasta>=0.1.1 in c:\\users\\lenonvo\\appdata\\local\\packages\\pythonsoftwarefoundation.python.3.10_qbz5n2kfra8p0\\localcache\\local-packages\\python310\\site-packages (from tensorflow-intel==2.11.1->tensorflow) (0.2.0)\n",
      "Requirement already satisfied: grpcio<2.0,>=1.24.3 in c:\\users\\lenonvo\\appdata\\local\\packages\\pythonsoftwarefoundation.python.3.10_qbz5n2kfra8p0\\localcache\\local-packages\\python310\\site-packages (from tensorflow-intel==2.11.1->tensorflow) (1.51.3)\n",
      "Requirement already satisfied: tensorflow-estimator<2.12,>=2.11.0 in c:\\users\\lenonvo\\appdata\\local\\packages\\pythonsoftwarefoundation.python.3.10_qbz5n2kfra8p0\\localcache\\local-packages\\python310\\site-packages (from tensorflow-intel==2.11.1->tensorflow) (2.11.0)\n",
      "Requirement already satisfied: wrapt>=1.11.0 in c:\\users\\lenonvo\\appdata\\local\\packages\\pythonsoftwarefoundation.python.3.10_qbz5n2kfra8p0\\localcache\\local-packages\\python310\\site-packages (from tensorflow-intel==2.11.1->tensorflow) (1.15.0)\n",
      "Requirement already satisfied: packaging in c:\\users\\lenonvo\\appdata\\local\\packages\\pythonsoftwarefoundation.python.3.10_qbz5n2kfra8p0\\localcache\\local-packages\\python310\\site-packages (from tensorflow-intel==2.11.1->tensorflow) (23.0)\n",
      "Requirement already satisfied: tensorflow-io-gcs-filesystem>=0.23.1 in c:\\users\\lenonvo\\appdata\\local\\packages\\pythonsoftwarefoundation.python.3.10_qbz5n2kfra8p0\\localcache\\local-packages\\python310\\site-packages (from tensorflow-intel==2.11.1->tensorflow) (0.31.0)\n",
      "Requirement already satisfied: gast<=0.4.0,>=0.2.1 in c:\\users\\lenonvo\\appdata\\local\\packages\\pythonsoftwarefoundation.python.3.10_qbz5n2kfra8p0\\localcache\\local-packages\\python310\\site-packages (from tensorflow-intel==2.11.1->tensorflow) (0.4.0)\n",
      "Requirement already satisfied: wheel<1.0,>=0.23.0 in c:\\users\\lenonvo\\appdata\\local\\packages\\pythonsoftwarefoundation.python.3.10_qbz5n2kfra8p0\\localcache\\local-packages\\python310\\site-packages (from astunparse>=1.6.0->tensorflow-intel==2.11.1->tensorflow) (0.40.0)\n",
      "Requirement already satisfied: tensorboard-plugin-wit>=1.6.0 in c:\\users\\lenonvo\\appdata\\local\\packages\\pythonsoftwarefoundation.python.3.10_qbz5n2kfra8p0\\localcache\\local-packages\\python310\\site-packages (from tensorboard<2.12,>=2.11->tensorflow-intel==2.11.1->tensorflow) (1.8.1)\n",
      "Requirement already satisfied: google-auth-oauthlib<0.5,>=0.4.1 in c:\\users\\lenonvo\\appdata\\local\\packages\\pythonsoftwarefoundation.python.3.10_qbz5n2kfra8p0\\localcache\\local-packages\\python310\\site-packages (from tensorboard<2.12,>=2.11->tensorflow-intel==2.11.1->tensorflow) (0.4.6)\n",
      "Requirement already satisfied: tensorboard-data-server<0.7.0,>=0.6.0 in c:\\users\\lenonvo\\appdata\\local\\packages\\pythonsoftwarefoundation.python.3.10_qbz5n2kfra8p0\\localcache\\local-packages\\python310\\site-packages (from tensorboard<2.12,>=2.11->tensorflow-intel==2.11.1->tensorflow) (0.6.1)\n",
      "Requirement already satisfied: markdown>=2.6.8 in c:\\users\\lenonvo\\appdata\\local\\packages\\pythonsoftwarefoundation.python.3.10_qbz5n2kfra8p0\\localcache\\local-packages\\python310\\site-packages (from tensorboard<2.12,>=2.11->tensorflow-intel==2.11.1->tensorflow) (3.4.1)\n",
      "Requirement already satisfied: requests<3,>=2.21.0 in c:\\users\\lenonvo\\appdata\\local\\packages\\pythonsoftwarefoundation.python.3.10_qbz5n2kfra8p0\\localcache\\local-packages\\python310\\site-packages (from tensorboard<2.12,>=2.11->tensorflow-intel==2.11.1->tensorflow) (2.28.2)\n",
      "Requirement already satisfied: google-auth<3,>=1.6.3 in c:\\users\\lenonvo\\appdata\\local\\packages\\pythonsoftwarefoundation.python.3.10_qbz5n2kfra8p0\\localcache\\local-packages\\python310\\site-packages (from tensorboard<2.12,>=2.11->tensorflow-intel==2.11.1->tensorflow) (2.16.2)\n",
      "Requirement already satisfied: werkzeug>=1.0.1 in c:\\users\\lenonvo\\appdata\\local\\packages\\pythonsoftwarefoundation.python.3.10_qbz5n2kfra8p0\\localcache\\local-packages\\python310\\site-packages (from tensorboard<2.12,>=2.11->tensorflow-intel==2.11.1->tensorflow) (2.2.3)\n",
      "Requirement already satisfied: cachetools<6.0,>=2.0.0 in c:\\users\\lenonvo\\appdata\\local\\packages\\pythonsoftwarefoundation.python.3.10_qbz5n2kfra8p0\\localcache\\local-packages\\python310\\site-packages (from google-auth<3,>=1.6.3->tensorboard<2.12,>=2.11->tensorflow-intel==2.11.1->tensorflow) (5.3.0)\n",
      "Requirement already satisfied: rsa<5,>=3.1.4 in c:\\users\\lenonvo\\appdata\\local\\packages\\pythonsoftwarefoundation.python.3.10_qbz5n2kfra8p0\\localcache\\local-packages\\python310\\site-packages (from google-auth<3,>=1.6.3->tensorboard<2.12,>=2.11->tensorflow-intel==2.11.1->tensorflow) (4.9)\n",
      "Requirement already satisfied: pyasn1-modules>=0.2.1 in c:\\users\\lenonvo\\appdata\\local\\packages\\pythonsoftwarefoundation.python.3.10_qbz5n2kfra8p0\\localcache\\local-packages\\python310\\site-packages (from google-auth<3,>=1.6.3->tensorboard<2.12,>=2.11->tensorflow-intel==2.11.1->tensorflow) (0.2.8)\n",
      "Requirement already satisfied: requests-oauthlib>=0.7.0 in c:\\users\\lenonvo\\appdata\\local\\packages\\pythonsoftwarefoundation.python.3.10_qbz5n2kfra8p0\\localcache\\local-packages\\python310\\site-packages (from google-auth-oauthlib<0.5,>=0.4.1->tensorboard<2.12,>=2.11->tensorflow-intel==2.11.1->tensorflow) (1.3.1)\n",
      "Requirement already satisfied: certifi>=2017.4.17 in c:\\users\\lenonvo\\appdata\\local\\packages\\pythonsoftwarefoundation.python.3.10_qbz5n2kfra8p0\\localcache\\local-packages\\python310\\site-packages (from requests<3,>=2.21.0->tensorboard<2.12,>=2.11->tensorflow-intel==2.11.1->tensorflow) (2022.12.7)\n",
      "Requirement already satisfied: charset-normalizer<4,>=2 in c:\\users\\lenonvo\\appdata\\local\\packages\\pythonsoftwarefoundation.python.3.10_qbz5n2kfra8p0\\localcache\\local-packages\\python310\\site-packages (from requests<3,>=2.21.0->tensorboard<2.12,>=2.11->tensorflow-intel==2.11.1->tensorflow) (3.0.1)\n",
      "Requirement already satisfied: urllib3<1.27,>=1.21.1 in c:\\users\\lenonvo\\appdata\\local\\packages\\pythonsoftwarefoundation.python.3.10_qbz5n2kfra8p0\\localcache\\local-packages\\python310\\site-packages (from requests<3,>=2.21.0->tensorboard<2.12,>=2.11->tensorflow-intel==2.11.1->tensorflow) (1.26.14)\n",
      "Requirement already satisfied: idna<4,>=2.5 in c:\\users\\lenonvo\\appdata\\local\\packages\\pythonsoftwarefoundation.python.3.10_qbz5n2kfra8p0\\localcache\\local-packages\\python310\\site-packages (from requests<3,>=2.21.0->tensorboard<2.12,>=2.11->tensorflow-intel==2.11.1->tensorflow) (3.4)\n",
      "Requirement already satisfied: MarkupSafe>=2.1.1 in c:\\users\\lenonvo\\appdata\\local\\packages\\pythonsoftwarefoundation.python.3.10_qbz5n2kfra8p0\\localcache\\local-packages\\python310\\site-packages (from werkzeug>=1.0.1->tensorboard<2.12,>=2.11->tensorflow-intel==2.11.1->tensorflow) (2.1.2)\n",
      "Requirement already satisfied: pyasn1<0.5.0,>=0.4.6 in c:\\users\\lenonvo\\appdata\\local\\packages\\pythonsoftwarefoundation.python.3.10_qbz5n2kfra8p0\\localcache\\local-packages\\python310\\site-packages (from pyasn1-modules>=0.2.1->google-auth<3,>=1.6.3->tensorboard<2.12,>=2.11->tensorflow-intel==2.11.1->tensorflow) (0.4.8)\n",
      "Requirement already satisfied: oauthlib>=3.0.0 in c:\\users\\lenonvo\\appdata\\local\\packages\\pythonsoftwarefoundation.python.3.10_qbz5n2kfra8p0\\localcache\\local-packages\\python310\\site-packages (from requests-oauthlib>=0.7.0->google-auth-oauthlib<0.5,>=0.4.1->tensorboard<2.12,>=2.11->tensorflow-intel==2.11.1->tensorflow) (3.2.2)\n"
     ]
    }
   ],
   "source": [
    "%pip install tensorflow"
   ]
  },
  {
   "cell_type": "code",
   "execution_count": 4,
   "metadata": {},
   "outputs": [],
   "source": [
    "import pandas as pd\n",
    "import numpy\n",
    "from sklearn.preprocessing import LabelEncoder, LabelBinarizer, StandardScaler\n",
    "from keras.utils.np_utils import to_categorical\n",
    "from sklearn.metrics import accuracy_score, classification_report\n",
    "\n",
    "from sklearn.metrics import roc_auc_score, roc_curve\n",
    "from sklearn.linear_model import LogisticRegression, SGDClassifier\n",
    "from sklearn.ensemble import RandomForestClassifier\n",
    "from sklearn.svm import SVC\n",
    "from sklearn.tree import DecisionTreeClassifier\n",
    "import matplotlib.pyplot as plt\n"
   ]
  },
  {
   "cell_type": "markdown",
   "metadata": {},
   "source": [
    "<h2>Columns Name for our testing and training data </h2>"
   ]
  },
  {
   "cell_type": "code",
   "execution_count": 5,
   "metadata": {},
   "outputs": [],
   "source": [
    "features = ['frame.interface_id',\n",
    " 'frame.dlt',\n",
    " 'frame.offset_shift',\n",
    " 'frame.time_epoch',\n",
    " 'frame.time_delta',\n",
    " 'frame.time_delta_displayed',\n",
    " 'frame.time_relative',\n",
    " 'frame.len',\n",
    " 'frame.cap_len',\n",
    " 'frame.marked',\n",
    " 'frame.ignored',\n",
    " 'radiotap.version',\n",
    " 'radiotap.pad',\n",
    " 'radiotap.length',\n",
    " 'radiotap.present.tsft',\n",
    " 'radiotap.present.flags',\n",
    " 'radiotap.present.rate',\n",
    " 'radiotap.present.channel',\n",
    " 'radiotap.present.fhss',\n",
    " 'radiotap.present.dbm_antsignal',\n",
    " 'radiotap.present.dbm_antnoise',\n",
    " 'radiotap.present.lock_quality',\n",
    " 'radiotap.present.tx_attenuation',\n",
    " 'radiotap.present.db_tx_attenuation',\n",
    " 'radiotap.present.dbm_tx_power',\n",
    " 'radiotap.present.antenna',\n",
    " 'radiotap.present.db_antsignal',\n",
    " 'radiotap.present.db_antnoise',\n",
    " 'radiotap.present.rxflags',\n",
    " 'radiotap.present.xchannel',\n",
    " 'radiotap.present.mcs',\n",
    " 'radiotap.present.ampdu',\n",
    " 'radiotap.present.vht',\n",
    " 'radiotap.present.reserved',\n",
    " 'radiotap.present.rtap_ns',\n",
    " 'radiotap.present.vendor_ns',\n",
    " 'radiotap.present.ext',\n",
    " 'radiotap.mactime',\n",
    " 'radiotap.flags.cfp',\n",
    " 'radiotap.flags.preamble',\n",
    " 'radiotap.flags.wep',\n",
    " 'radiotap.flags.frag',\n",
    " 'radiotap.flags.fcs',\n",
    " 'radiotap.flags.datapad',\n",
    " 'radiotap.flags.badfcs',\n",
    " 'radiotap.flags.shortgi',\n",
    " 'radiotap.datarate',\n",
    " 'radiotap.channel.freq',\n",
    " 'radiotap.channel.type.turbo',\n",
    " 'radiotap.channel.type.cck',\n",
    " 'radiotap.channel.type.ofdm',\n",
    " 'radiotap.channel.type.2ghz',\n",
    " 'radiotap.channel.type.5ghz',\n",
    " 'radiotap.channel.type.passive',\n",
    " 'radiotap.channel.type.dynamic',\n",
    " 'radiotap.channel.type.gfsk',\n",
    " 'radiotap.channel.type.gsm',\n",
    " 'radiotap.channel.type.sturbo',\n",
    " 'radiotap.channel.type.half',\n",
    " 'radiotap.channel.type.quarter',\n",
    " 'radiotap.dbm_antsignal',\n",
    " 'radiotap.antenna',\n",
    " 'radiotap.rxflags.badplcp',\n",
    " 'wlan.fc.type_subtype',\n",
    " 'wlan.fc.version',\n",
    " 'wlan.fc.type',\n",
    " 'wlan.fc.subtype',\n",
    " 'wlan.fc.ds',\n",
    " 'wlan.fc.frag',\n",
    " 'wlan.fc.retry',\n",
    " 'wlan.fc.pwrmgt',\n",
    " 'wlan.fc.moredata',\n",
    " 'wlan.fc.protected',\n",
    " 'wlan.fc.order',\n",
    " 'wlan.duration',\n",
    " 'wlan.ra',\n",
    " 'wlan.da',\n",
    " 'wlan.ta',\n",
    " 'wlan.sa',\n",
    " 'wlan.bssid',\n",
    " 'wlan.frag',\n",
    " 'wlan.seq',\n",
    " 'wlan.bar.type',\n",
    " 'wlan.ba.control.ackpolicy',\n",
    " 'wlan.ba.control.multitid',\n",
    " 'wlan.ba.control.cbitmap',\n",
    " 'wlan.bar.compressed.tidinfo',\n",
    " 'wlan.ba.bm',\n",
    " 'wlan.fcs_good',\n",
    " 'wlan_mgt.fixed.capabilities.ess',\n",
    " 'wlan_mgt.fixed.capabilities.ibss',\n",
    " 'wlan_mgt.fixed.capabilities.cfpoll.ap',\n",
    " 'wlan_mgt.fixed.capabilities.privacy',\n",
    " 'wlan_mgt.fixed.capabilities.preamble',\n",
    " 'wlan_mgt.fixed.capabilities.pbcc',\n",
    " 'wlan_mgt.fixed.capabilities.agility',\n",
    " 'wlan_mgt.fixed.capabilities.spec_man',\n",
    " 'wlan_mgt.fixed.capabilities.short_slot_time',\n",
    " 'wlan_mgt.fixed.capabilities.apsd',\n",
    " 'wlan_mgt.fixed.capabilities.radio_measurement',\n",
    " 'wlan_mgt.fixed.capabilities.dsss_ofdm',\n",
    " 'wlan_mgt.fixed.capabilities.del_blk_ack',\n",
    " 'wlan_mgt.fixed.capabilities.imm_blk_ack',\n",
    " 'wlan_mgt.fixed.listen_ival',\n",
    " 'wlan_mgt.fixed.current_ap',\n",
    " 'wlan_mgt.fixed.status_code',\n",
    " 'wlan_mgt.fixed.timestamp',\n",
    " 'wlan_mgt.fixed.beacon',\n",
    " 'wlan_mgt.fixed.aid',\n",
    " 'wlan_mgt.fixed.reason_code',\n",
    " 'wlan_mgt.fixed.auth.alg',\n",
    " 'wlan_mgt.fixed.auth_seq',\n",
    " 'wlan_mgt.fixed.category_code',\n",
    " 'wlan_mgt.fixed.htact',\n",
    " 'wlan_mgt.fixed.chanwidth',\n",
    " 'wlan_mgt.fixed.fragment',\n",
    " 'wlan_mgt.fixed.sequence',\n",
    " 'wlan_mgt.tagged.all',\n",
    " 'wlan_mgt.ssid',\n",
    " 'wlan_mgt.ds.current_channel',\n",
    " 'wlan_mgt.tim.dtim_count',\n",
    " 'wlan_mgt.tim.dtim_period',\n",
    " 'wlan_mgt.tim.bmapctl.multicast',\n",
    " 'wlan_mgt.tim.bmapctl.offset',\n",
    " 'wlan_mgt.country_info.environment',\n",
    " 'wlan_mgt.rsn.version',\n",
    " 'wlan_mgt.rsn.gcs.type',\n",
    " 'wlan_mgt.rsn.pcs.count',\n",
    " 'wlan_mgt.rsn.akms.count',\n",
    " 'wlan_mgt.rsn.akms.type',\n",
    " 'wlan_mgt.rsn.capabilities.preauth',\n",
    " 'wlan_mgt.rsn.capabilities.no_pairwise',\n",
    " 'wlan_mgt.rsn.capabilities.ptksa_replay_counter',\n",
    " 'wlan_mgt.rsn.capabilities.gtksa_replay_counter',\n",
    " 'wlan_mgt.rsn.capabilities.mfpr',\n",
    " 'wlan_mgt.rsn.capabilities.mfpc',\n",
    " 'wlan_mgt.rsn.capabilities.peerkey',\n",
    " 'wlan_mgt.tcprep.trsmt_pow',\n",
    " 'wlan_mgt.tcprep.link_mrg',\n",
    " 'wlan.wep.iv',\n",
    " 'wlan.wep.key',\n",
    " 'wlan.wep.icv',\n",
    " 'wlan.tkip.extiv',\n",
    " 'wlan.ccmp.extiv',\n",
    " 'wlan.qos.tid',\n",
    " 'wlan.qos.priority',\n",
    " 'wlan.qos.eosp',\n",
    " 'wlan.qos.ack',\n",
    " 'wlan.qos.amsdupresent',\n",
    " 'wlan.qos.buf_state_indicated1',\n",
    " 'wlan.qos.bit4',\n",
    " 'wlan.qos.txop_dur_req',\n",
    " 'wlan.qos.buf_state_indicated2',\n",
    " 'data.len',\n",
    " 'class']"
   ]
  },
  {
   "cell_type": "markdown",
   "metadata": {},
   "source": []
  },
  {
   "cell_type": "markdown",
   "metadata": {},
   "source": [
    "<h2> Training Dataset </h2>"
   ]
  },
  {
   "cell_type": "code",
   "execution_count": 6,
   "metadata": {},
   "outputs": [],
   "source": [
    "import pandas as pd"
   ]
  },
  {
   "cell_type": "code",
   "execution_count": 7,
   "metadata": {},
   "outputs": [
    {
     "name": "stderr",
     "output_type": "stream",
     "text": [
      "C:\\Users\\LENONVO\\AppData\\Local\\Temp\\ipykernel_12236\\1561909112.py:1: DtypeWarning: Columns (37,38,39,40,41,42,43,44,45,47,48,49,50,51,52,53,54,55,56,57,58,59,60,61,62,74,88) have mixed types. Specify dtype option on import or set low_memory=False.\n",
      "  awid = pd.read_csv(\"dataset.csv\", header=None, names=features)\n"
     ]
    }
   ],
   "source": [
    "awid = pd.read_csv(\"dataset.csv\", header=None, names=features)"
   ]
  },
  {
   "cell_type": "markdown",
   "metadata": {},
   "source": [
    "<h2> Data Exploration</h2>"
   ]
  },
  {
   "cell_type": "code",
   "execution_count": 8,
   "metadata": {},
   "outputs": [
    {
     "data": {
      "text/html": [
       "<div>\n",
       "<style scoped>\n",
       "    .dataframe tbody tr th:only-of-type {\n",
       "        vertical-align: middle;\n",
       "    }\n",
       "\n",
       "    .dataframe tbody tr th {\n",
       "        vertical-align: top;\n",
       "    }\n",
       "\n",
       "    .dataframe thead th {\n",
       "        text-align: right;\n",
       "    }\n",
       "</style>\n",
       "<table border=\"1\" class=\"dataframe\">\n",
       "  <thead>\n",
       "    <tr style=\"text-align: right;\">\n",
       "      <th></th>\n",
       "      <th>frame.interface_id</th>\n",
       "      <th>frame.dlt</th>\n",
       "      <th>frame.offset_shift</th>\n",
       "      <th>frame.time_epoch</th>\n",
       "      <th>frame.time_delta</th>\n",
       "      <th>frame.time_delta_displayed</th>\n",
       "      <th>frame.time_relative</th>\n",
       "      <th>frame.len</th>\n",
       "      <th>frame.cap_len</th>\n",
       "      <th>frame.marked</th>\n",
       "      <th>...</th>\n",
       "      <th>wlan.qos.priority</th>\n",
       "      <th>wlan.qos.eosp</th>\n",
       "      <th>wlan.qos.ack</th>\n",
       "      <th>wlan.qos.amsdupresent</th>\n",
       "      <th>wlan.qos.buf_state_indicated1</th>\n",
       "      <th>wlan.qos.bit4</th>\n",
       "      <th>wlan.qos.txop_dur_req</th>\n",
       "      <th>wlan.qos.buf_state_indicated2</th>\n",
       "      <th>data.len</th>\n",
       "      <th>class</th>\n",
       "    </tr>\n",
       "  </thead>\n",
       "  <tbody>\n",
       "    <tr>\n",
       "      <th>0</th>\n",
       "      <td>0</td>\n",
       "      <td>?</td>\n",
       "      <td>0.0</td>\n",
       "      <td>1.393661e+09</td>\n",
       "      <td>0.000000</td>\n",
       "      <td>0.000000</td>\n",
       "      <td>0.000000</td>\n",
       "      <td>261</td>\n",
       "      <td>261</td>\n",
       "      <td>0</td>\n",
       "      <td>...</td>\n",
       "      <td>?</td>\n",
       "      <td>?</td>\n",
       "      <td>?</td>\n",
       "      <td>?</td>\n",
       "      <td>?</td>\n",
       "      <td>?</td>\n",
       "      <td>?</td>\n",
       "      <td>?</td>\n",
       "      <td>?</td>\n",
       "      <td>normal</td>\n",
       "    </tr>\n",
       "    <tr>\n",
       "      <th>1</th>\n",
       "      <td>0</td>\n",
       "      <td>?</td>\n",
       "      <td>0.0</td>\n",
       "      <td>1.393661e+09</td>\n",
       "      <td>0.024271</td>\n",
       "      <td>0.024271</td>\n",
       "      <td>0.024271</td>\n",
       "      <td>185</td>\n",
       "      <td>185</td>\n",
       "      <td>0</td>\n",
       "      <td>...</td>\n",
       "      <td>?</td>\n",
       "      <td>?</td>\n",
       "      <td>?</td>\n",
       "      <td>?</td>\n",
       "      <td>?</td>\n",
       "      <td>?</td>\n",
       "      <td>?</td>\n",
       "      <td>?</td>\n",
       "      <td>?</td>\n",
       "      <td>normal</td>\n",
       "    </tr>\n",
       "    <tr>\n",
       "      <th>2</th>\n",
       "      <td>0</td>\n",
       "      <td>?</td>\n",
       "      <td>0.0</td>\n",
       "      <td>1.393661e+09</td>\n",
       "      <td>0.001631</td>\n",
       "      <td>0.001631</td>\n",
       "      <td>0.025902</td>\n",
       "      <td>185</td>\n",
       "      <td>185</td>\n",
       "      <td>0</td>\n",
       "      <td>...</td>\n",
       "      <td>?</td>\n",
       "      <td>?</td>\n",
       "      <td>?</td>\n",
       "      <td>?</td>\n",
       "      <td>?</td>\n",
       "      <td>?</td>\n",
       "      <td>?</td>\n",
       "      <td>?</td>\n",
       "      <td>?</td>\n",
       "      <td>normal</td>\n",
       "    </tr>\n",
       "    <tr>\n",
       "      <th>3</th>\n",
       "      <td>0</td>\n",
       "      <td>?</td>\n",
       "      <td>0.0</td>\n",
       "      <td>1.393661e+09</td>\n",
       "      <td>0.055325</td>\n",
       "      <td>0.055325</td>\n",
       "      <td>0.081227</td>\n",
       "      <td>159</td>\n",
       "      <td>159</td>\n",
       "      <td>0</td>\n",
       "      <td>...</td>\n",
       "      <td>?</td>\n",
       "      <td>?</td>\n",
       "      <td>?</td>\n",
       "      <td>?</td>\n",
       "      <td>?</td>\n",
       "      <td>?</td>\n",
       "      <td>?</td>\n",
       "      <td>?</td>\n",
       "      <td>?</td>\n",
       "      <td>normal</td>\n",
       "    </tr>\n",
       "    <tr>\n",
       "      <th>4</th>\n",
       "      <td>0</td>\n",
       "      <td>?</td>\n",
       "      <td>0.0</td>\n",
       "      <td>1.393661e+09</td>\n",
       "      <td>0.000415</td>\n",
       "      <td>0.000415</td>\n",
       "      <td>0.081642</td>\n",
       "      <td>54</td>\n",
       "      <td>54</td>\n",
       "      <td>0</td>\n",
       "      <td>...</td>\n",
       "      <td>?</td>\n",
       "      <td>?</td>\n",
       "      <td>?</td>\n",
       "      <td>?</td>\n",
       "      <td>?</td>\n",
       "      <td>?</td>\n",
       "      <td>?</td>\n",
       "      <td>?</td>\n",
       "      <td>?</td>\n",
       "      <td>normal</td>\n",
       "    </tr>\n",
       "  </tbody>\n",
       "</table>\n",
       "<p>5 rows × 155 columns</p>\n",
       "</div>"
      ],
      "text/plain": [
       "   frame.interface_id frame.dlt  frame.offset_shift  frame.time_epoch  \\\n",
       "0                   0         ?                 0.0      1.393661e+09   \n",
       "1                   0         ?                 0.0      1.393661e+09   \n",
       "2                   0         ?                 0.0      1.393661e+09   \n",
       "3                   0         ?                 0.0      1.393661e+09   \n",
       "4                   0         ?                 0.0      1.393661e+09   \n",
       "\n",
       "   frame.time_delta  frame.time_delta_displayed  frame.time_relative  \\\n",
       "0          0.000000                    0.000000             0.000000   \n",
       "1          0.024271                    0.024271             0.024271   \n",
       "2          0.001631                    0.001631             0.025902   \n",
       "3          0.055325                    0.055325             0.081227   \n",
       "4          0.000415                    0.000415             0.081642   \n",
       "\n",
       "   frame.len  frame.cap_len  frame.marked  ...  wlan.qos.priority  \\\n",
       "0        261            261             0  ...                  ?   \n",
       "1        185            185             0  ...                  ?   \n",
       "2        185            185             0  ...                  ?   \n",
       "3        159            159             0  ...                  ?   \n",
       "4         54             54             0  ...                  ?   \n",
       "\n",
       "   wlan.qos.eosp  wlan.qos.ack  wlan.qos.amsdupresent  \\\n",
       "0              ?             ?                      ?   \n",
       "1              ?             ?                      ?   \n",
       "2              ?             ?                      ?   \n",
       "3              ?             ?                      ?   \n",
       "4              ?             ?                      ?   \n",
       "\n",
       "   wlan.qos.buf_state_indicated1  wlan.qos.bit4  wlan.qos.txop_dur_req  \\\n",
       "0                              ?              ?                      ?   \n",
       "1                              ?              ?                      ?   \n",
       "2                              ?              ?                      ?   \n",
       "3                              ?              ?                      ?   \n",
       "4                              ?              ?                      ?   \n",
       "\n",
       "   wlan.qos.buf_state_indicated2  data.len   class  \n",
       "0                              ?         ?  normal  \n",
       "1                              ?         ?  normal  \n",
       "2                              ?         ?  normal  \n",
       "3                              ?         ?  normal  \n",
       "4                              ?         ?  normal  \n",
       "\n",
       "[5 rows x 155 columns]"
      ]
     },
     "execution_count": 8,
     "metadata": {},
     "output_type": "execute_result"
    }
   ],
   "source": [
    "awid.head()"
   ]
  },
  {
   "cell_type": "code",
   "execution_count": 9,
   "metadata": {},
   "outputs": [
    {
     "data": {
      "text/html": [
       "<div>\n",
       "<style scoped>\n",
       "    .dataframe tbody tr th:only-of-type {\n",
       "        vertical-align: middle;\n",
       "    }\n",
       "\n",
       "    .dataframe tbody tr th {\n",
       "        vertical-align: top;\n",
       "    }\n",
       "\n",
       "    .dataframe thead th {\n",
       "        text-align: right;\n",
       "    }\n",
       "</style>\n",
       "<table border=\"1\" class=\"dataframe\">\n",
       "  <thead>\n",
       "    <tr style=\"text-align: right;\">\n",
       "      <th></th>\n",
       "      <th>frame.interface_id</th>\n",
       "      <th>frame.offset_shift</th>\n",
       "      <th>frame.time_epoch</th>\n",
       "      <th>frame.time_delta</th>\n",
       "      <th>frame.time_delta_displayed</th>\n",
       "      <th>frame.time_relative</th>\n",
       "      <th>frame.len</th>\n",
       "      <th>frame.cap_len</th>\n",
       "      <th>frame.marked</th>\n",
       "      <th>frame.ignored</th>\n",
       "      <th>...</th>\n",
       "      <th>radiotap.datarate</th>\n",
       "      <th>wlan.fc.version</th>\n",
       "      <th>wlan.fc.type</th>\n",
       "      <th>wlan.fc.subtype</th>\n",
       "      <th>wlan.fc.frag</th>\n",
       "      <th>wlan.fc.retry</th>\n",
       "      <th>wlan.fc.pwrmgt</th>\n",
       "      <th>wlan.fc.moredata</th>\n",
       "      <th>wlan.fc.protected</th>\n",
       "      <th>wlan.fc.order</th>\n",
       "    </tr>\n",
       "  </thead>\n",
       "  <tbody>\n",
       "    <tr>\n",
       "      <th>count</th>\n",
       "      <td>1795575.0</td>\n",
       "      <td>1795575.0</td>\n",
       "      <td>1.795575e+06</td>\n",
       "      <td>1.795575e+06</td>\n",
       "      <td>1.795575e+06</td>\n",
       "      <td>1.795575e+06</td>\n",
       "      <td>1.795575e+06</td>\n",
       "      <td>1.795575e+06</td>\n",
       "      <td>1795575.0</td>\n",
       "      <td>1795575.0</td>\n",
       "      <td>...</td>\n",
       "      <td>1.795575e+06</td>\n",
       "      <td>1795575.0</td>\n",
       "      <td>1.795575e+06</td>\n",
       "      <td>1.795575e+06</td>\n",
       "      <td>1.795575e+06</td>\n",
       "      <td>1.795575e+06</td>\n",
       "      <td>1.795575e+06</td>\n",
       "      <td>1.795575e+06</td>\n",
       "      <td>1.795575e+06</td>\n",
       "      <td>1795575.0</td>\n",
       "    </tr>\n",
       "    <tr>\n",
       "      <th>mean</th>\n",
       "      <td>0.0</td>\n",
       "      <td>0.0</td>\n",
       "      <td>1.393663e+09</td>\n",
       "      <td>2.004690e-03</td>\n",
       "      <td>2.004690e-03</td>\n",
       "      <td>1.870294e+03</td>\n",
       "      <td>5.153149e+02</td>\n",
       "      <td>5.153149e+02</td>\n",
       "      <td>0.0</td>\n",
       "      <td>0.0</td>\n",
       "      <td>...</td>\n",
       "      <td>2.513950e+01</td>\n",
       "      <td>0.0</td>\n",
       "      <td>1.272582e+00</td>\n",
       "      <td>8.499055e+00</td>\n",
       "      <td>3.748103e-04</td>\n",
       "      <td>1.271080e-01</td>\n",
       "      <td>2.325216e-02</td>\n",
       "      <td>1.772691e-03</td>\n",
       "      <td>4.932927e-01</td>\n",
       "      <td>0.0</td>\n",
       "    </tr>\n",
       "    <tr>\n",
       "      <th>std</th>\n",
       "      <td>0.0</td>\n",
       "      <td>0.0</td>\n",
       "      <td>8.674448e+02</td>\n",
       "      <td>6.379536e-03</td>\n",
       "      <td>6.379536e-03</td>\n",
       "      <td>8.674448e+02</td>\n",
       "      <td>6.649245e+02</td>\n",
       "      <td>6.649245e+02</td>\n",
       "      <td>0.0</td>\n",
       "      <td>0.0</td>\n",
       "      <td>...</td>\n",
       "      <td>2.373590e+01</td>\n",
       "      <td>0.0</td>\n",
       "      <td>8.198060e-01</td>\n",
       "      <td>4.173015e+00</td>\n",
       "      <td>1.935639e-02</td>\n",
       "      <td>3.330940e-01</td>\n",
       "      <td>1.507034e-01</td>\n",
       "      <td>4.206602e-02</td>\n",
       "      <td>4.999551e-01</td>\n",
       "      <td>0.0</td>\n",
       "    </tr>\n",
       "    <tr>\n",
       "      <th>min</th>\n",
       "      <td>0.0</td>\n",
       "      <td>0.0</td>\n",
       "      <td>1.393661e+09</td>\n",
       "      <td>0.000000e+00</td>\n",
       "      <td>0.000000e+00</td>\n",
       "      <td>0.000000e+00</td>\n",
       "      <td>4.000000e+01</td>\n",
       "      <td>4.000000e+01</td>\n",
       "      <td>0.0</td>\n",
       "      <td>0.0</td>\n",
       "      <td>...</td>\n",
       "      <td>1.000000e+00</td>\n",
       "      <td>0.0</td>\n",
       "      <td>0.000000e+00</td>\n",
       "      <td>0.000000e+00</td>\n",
       "      <td>0.000000e+00</td>\n",
       "      <td>0.000000e+00</td>\n",
       "      <td>0.000000e+00</td>\n",
       "      <td>0.000000e+00</td>\n",
       "      <td>0.000000e+00</td>\n",
       "      <td>0.0</td>\n",
       "    </tr>\n",
       "    <tr>\n",
       "      <th>25%</th>\n",
       "      <td>0.0</td>\n",
       "      <td>0.0</td>\n",
       "      <td>1.393662e+09</td>\n",
       "      <td>3.150000e-04</td>\n",
       "      <td>3.150000e-04</td>\n",
       "      <td>1.027875e+03</td>\n",
       "      <td>4.000000e+01</td>\n",
       "      <td>4.000000e+01</td>\n",
       "      <td>0.0</td>\n",
       "      <td>0.0</td>\n",
       "      <td>...</td>\n",
       "      <td>1.000000e+00</td>\n",
       "      <td>0.0</td>\n",
       "      <td>1.000000e+00</td>\n",
       "      <td>8.000000e+00</td>\n",
       "      <td>0.000000e+00</td>\n",
       "      <td>0.000000e+00</td>\n",
       "      <td>0.000000e+00</td>\n",
       "      <td>0.000000e+00</td>\n",
       "      <td>0.000000e+00</td>\n",
       "      <td>0.0</td>\n",
       "    </tr>\n",
       "    <tr>\n",
       "      <th>50%</th>\n",
       "      <td>0.0</td>\n",
       "      <td>0.0</td>\n",
       "      <td>1.393663e+09</td>\n",
       "      <td>5.490000e-04</td>\n",
       "      <td>5.490000e-04</td>\n",
       "      <td>1.902614e+03</td>\n",
       "      <td>1.120000e+02</td>\n",
       "      <td>1.120000e+02</td>\n",
       "      <td>0.0</td>\n",
       "      <td>0.0</td>\n",
       "      <td>...</td>\n",
       "      <td>2.400000e+01</td>\n",
       "      <td>0.0</td>\n",
       "      <td>2.000000e+00</td>\n",
       "      <td>8.000000e+00</td>\n",
       "      <td>0.000000e+00</td>\n",
       "      <td>0.000000e+00</td>\n",
       "      <td>0.000000e+00</td>\n",
       "      <td>0.000000e+00</td>\n",
       "      <td>0.000000e+00</td>\n",
       "      <td>0.0</td>\n",
       "    </tr>\n",
       "    <tr>\n",
       "      <th>75%</th>\n",
       "      <td>0.0</td>\n",
       "      <td>0.0</td>\n",
       "      <td>1.393664e+09</td>\n",
       "      <td>1.113000e-03</td>\n",
       "      <td>1.113000e-03</td>\n",
       "      <td>2.524325e+03</td>\n",
       "      <td>1.552000e+03</td>\n",
       "      <td>1.552000e+03</td>\n",
       "      <td>0.0</td>\n",
       "      <td>0.0</td>\n",
       "      <td>...</td>\n",
       "      <td>5.400000e+01</td>\n",
       "      <td>0.0</td>\n",
       "      <td>2.000000e+00</td>\n",
       "      <td>1.200000e+01</td>\n",
       "      <td>0.000000e+00</td>\n",
       "      <td>0.000000e+00</td>\n",
       "      <td>0.000000e+00</td>\n",
       "      <td>0.000000e+00</td>\n",
       "      <td>1.000000e+00</td>\n",
       "      <td>0.0</td>\n",
       "    </tr>\n",
       "    <tr>\n",
       "      <th>max</th>\n",
       "      <td>0.0</td>\n",
       "      <td>0.0</td>\n",
       "      <td>1.393665e+09</td>\n",
       "      <td>3.502630e-01</td>\n",
       "      <td>3.502630e-01</td>\n",
       "      <td>3.599571e+03</td>\n",
       "      <td>1.570000e+03</td>\n",
       "      <td>1.570000e+03</td>\n",
       "      <td>0.0</td>\n",
       "      <td>0.0</td>\n",
       "      <td>...</td>\n",
       "      <td>5.400000e+01</td>\n",
       "      <td>0.0</td>\n",
       "      <td>2.000000e+00</td>\n",
       "      <td>1.300000e+01</td>\n",
       "      <td>1.000000e+00</td>\n",
       "      <td>1.000000e+00</td>\n",
       "      <td>1.000000e+00</td>\n",
       "      <td>1.000000e+00</td>\n",
       "      <td>1.000000e+00</td>\n",
       "      <td>0.0</td>\n",
       "    </tr>\n",
       "  </tbody>\n",
       "</table>\n",
       "<p>8 rows × 45 columns</p>\n",
       "</div>"
      ],
      "text/plain": [
       "       frame.interface_id  frame.offset_shift  frame.time_epoch  \\\n",
       "count           1795575.0           1795575.0      1.795575e+06   \n",
       "mean                  0.0                 0.0      1.393663e+09   \n",
       "std                   0.0                 0.0      8.674448e+02   \n",
       "min                   0.0                 0.0      1.393661e+09   \n",
       "25%                   0.0                 0.0      1.393662e+09   \n",
       "50%                   0.0                 0.0      1.393663e+09   \n",
       "75%                   0.0                 0.0      1.393664e+09   \n",
       "max                   0.0                 0.0      1.393665e+09   \n",
       "\n",
       "       frame.time_delta  frame.time_delta_displayed  frame.time_relative  \\\n",
       "count      1.795575e+06                1.795575e+06         1.795575e+06   \n",
       "mean       2.004690e-03                2.004690e-03         1.870294e+03   \n",
       "std        6.379536e-03                6.379536e-03         8.674448e+02   \n",
       "min        0.000000e+00                0.000000e+00         0.000000e+00   \n",
       "25%        3.150000e-04                3.150000e-04         1.027875e+03   \n",
       "50%        5.490000e-04                5.490000e-04         1.902614e+03   \n",
       "75%        1.113000e-03                1.113000e-03         2.524325e+03   \n",
       "max        3.502630e-01                3.502630e-01         3.599571e+03   \n",
       "\n",
       "          frame.len  frame.cap_len  frame.marked  frame.ignored  ...  \\\n",
       "count  1.795575e+06   1.795575e+06     1795575.0      1795575.0  ...   \n",
       "mean   5.153149e+02   5.153149e+02           0.0            0.0  ...   \n",
       "std    6.649245e+02   6.649245e+02           0.0            0.0  ...   \n",
       "min    4.000000e+01   4.000000e+01           0.0            0.0  ...   \n",
       "25%    4.000000e+01   4.000000e+01           0.0            0.0  ...   \n",
       "50%    1.120000e+02   1.120000e+02           0.0            0.0  ...   \n",
       "75%    1.552000e+03   1.552000e+03           0.0            0.0  ...   \n",
       "max    1.570000e+03   1.570000e+03           0.0            0.0  ...   \n",
       "\n",
       "       radiotap.datarate  wlan.fc.version  wlan.fc.type  wlan.fc.subtype  \\\n",
       "count       1.795575e+06        1795575.0  1.795575e+06     1.795575e+06   \n",
       "mean        2.513950e+01              0.0  1.272582e+00     8.499055e+00   \n",
       "std         2.373590e+01              0.0  8.198060e-01     4.173015e+00   \n",
       "min         1.000000e+00              0.0  0.000000e+00     0.000000e+00   \n",
       "25%         1.000000e+00              0.0  1.000000e+00     8.000000e+00   \n",
       "50%         2.400000e+01              0.0  2.000000e+00     8.000000e+00   \n",
       "75%         5.400000e+01              0.0  2.000000e+00     1.200000e+01   \n",
       "max         5.400000e+01              0.0  2.000000e+00     1.300000e+01   \n",
       "\n",
       "       wlan.fc.frag  wlan.fc.retry  wlan.fc.pwrmgt  wlan.fc.moredata  \\\n",
       "count  1.795575e+06   1.795575e+06    1.795575e+06      1.795575e+06   \n",
       "mean   3.748103e-04   1.271080e-01    2.325216e-02      1.772691e-03   \n",
       "std    1.935639e-02   3.330940e-01    1.507034e-01      4.206602e-02   \n",
       "min    0.000000e+00   0.000000e+00    0.000000e+00      0.000000e+00   \n",
       "25%    0.000000e+00   0.000000e+00    0.000000e+00      0.000000e+00   \n",
       "50%    0.000000e+00   0.000000e+00    0.000000e+00      0.000000e+00   \n",
       "75%    0.000000e+00   0.000000e+00    0.000000e+00      0.000000e+00   \n",
       "max    1.000000e+00   1.000000e+00    1.000000e+00      1.000000e+00   \n",
       "\n",
       "       wlan.fc.protected  wlan.fc.order  \n",
       "count       1.795575e+06      1795575.0  \n",
       "mean        4.932927e-01            0.0  \n",
       "std         4.999551e-01            0.0  \n",
       "min         0.000000e+00            0.0  \n",
       "25%         0.000000e+00            0.0  \n",
       "50%         0.000000e+00            0.0  \n",
       "75%         1.000000e+00            0.0  \n",
       "max         1.000000e+00            0.0  \n",
       "\n",
       "[8 rows x 45 columns]"
      ]
     },
     "execution_count": 9,
     "metadata": {},
     "output_type": "execute_result"
    }
   ],
   "source": [
    "awid.describe()"
   ]
  },
  {
   "cell_type": "code",
   "execution_count": null,
   "metadata": {},
   "outputs": [],
   "source": []
  },
  {
   "cell_type": "code",
   "execution_count": 10,
   "metadata": {},
   "outputs": [
    {
     "data": {
      "text/plain": [
       "normal                    1633190\n",
       "arp                         64609\n",
       "cafe_latte                  45889\n",
       "amok                        31180\n",
       "deauthentication            10447\n",
       "authentication_request       3500\n",
       "evil_twin                    2633\n",
       "beacon                       1799\n",
       "probe_response               1558\n",
       "fragmentation                 770\n",
       "Name: class, dtype: int64"
      ]
     },
     "execution_count": 10,
     "metadata": {},
     "output_type": "execute_result"
    }
   ],
   "source": [
    "awid['class'].value_counts()"
   ]
  },
  {
   "cell_type": "code",
   "execution_count": 11,
   "metadata": {},
   "outputs": [
    {
     "data": {
      "text/plain": [
       "frame.interface_id               0\n",
       "frame.dlt                        0\n",
       "frame.offset_shift               0\n",
       "frame.time_epoch                 0\n",
       "frame.time_delta                 0\n",
       "                                ..\n",
       "wlan.qos.bit4                    0\n",
       "wlan.qos.txop_dur_req            0\n",
       "wlan.qos.buf_state_indicated2    0\n",
       "data.len                         0\n",
       "class                            0\n",
       "Length: 155, dtype: int64"
      ]
     },
     "execution_count": 11,
     "metadata": {},
     "output_type": "execute_result"
    }
   ],
   "source": [
    "awid.isna().sum()"
   ]
  },
  {
   "cell_type": "markdown",
   "metadata": {},
   "source": [
    "<h2> Dropping columns with 50% of null data</h2>"
   ]
  },
  {
   "cell_type": "code",
   "execution_count": 12,
   "metadata": {},
   "outputs": [
    {
     "data": {
      "text/plain": [
       "(70,)"
      ]
     },
     "execution_count": 12,
     "metadata": {},
     "output_type": "execute_result"
    }
   ],
   "source": [
    "awid.replace({\"?\":None}, inplace=True)\n",
    "null_column=awid.columns[awid.isnull().mean() >= 0.51]\n",
    "null_column.shape"
   ]
  },
  {
   "cell_type": "markdown",
   "metadata": {},
   "source": [
    "<h2>Dropping all the null rows</h2>"
   ]
  },
  {
   "cell_type": "code",
   "execution_count": 13,
   "metadata": {},
   "outputs": [],
   "source": [
    "awid.drop(null_column, axis=1, inplace=True)\n",
    "awid.dropna(inplace=True)"
   ]
  },
  {
   "cell_type": "code",
   "execution_count": 14,
   "metadata": {},
   "outputs": [
    {
     "data": {
      "text/plain": [
       "frame.interface_id            0\n",
       "frame.offset_shift            0\n",
       "frame.time_epoch              0\n",
       "frame.time_delta              0\n",
       "frame.time_delta_displayed    0\n",
       "                             ..\n",
       "wlan.seq                      0\n",
       "wlan.fcs_good                 0\n",
       "wlan.wep.key                  0\n",
       "data.len                      0\n",
       "class                         0\n",
       "Length: 85, dtype: int64"
      ]
     },
     "execution_count": 14,
     "metadata": {},
     "output_type": "execute_result"
    }
   ],
   "source": [
    "awid.isna().sum()"
   ]
  },
  {
   "cell_type": "code",
   "execution_count": 15,
   "metadata": {},
   "outputs": [
    {
     "data": {
      "text/plain": [
       "normal           775634\n",
       "arp               64609\n",
       "cafe_latte        44731\n",
       "fragmentation       770\n",
       "Name: class, dtype: int64"
      ]
     },
     "execution_count": 15,
     "metadata": {},
     "output_type": "execute_result"
    }
   ],
   "source": [
    "awid['class'].value_counts()"
   ]
  },
  {
   "cell_type": "markdown",
   "metadata": {},
   "source": [
    "<h2>Converting all the Columns to numeric</h2>"
   ]
  },
  {
   "cell_type": "code",
   "execution_count": 16,
   "metadata": {},
   "outputs": [],
   "source": [
    "for col in awid.columns:\n",
    "    awid[col]=pd.to_numeric(awid[col], errors='ignore')"
   ]
  },
  {
   "cell_type": "code",
   "execution_count": 17,
   "metadata": {},
   "outputs": [
    {
     "data": {
      "text/html": [
       "<div>\n",
       "<style scoped>\n",
       "    .dataframe tbody tr th:only-of-type {\n",
       "        vertical-align: middle;\n",
       "    }\n",
       "\n",
       "    .dataframe tbody tr th {\n",
       "        vertical-align: top;\n",
       "    }\n",
       "\n",
       "    .dataframe thead th {\n",
       "        text-align: right;\n",
       "    }\n",
       "</style>\n",
       "<table border=\"1\" class=\"dataframe\">\n",
       "  <thead>\n",
       "    <tr style=\"text-align: right;\">\n",
       "      <th></th>\n",
       "      <th>frame.interface_id</th>\n",
       "      <th>frame.offset_shift</th>\n",
       "      <th>frame.time_epoch</th>\n",
       "      <th>frame.time_delta</th>\n",
       "      <th>frame.time_delta_displayed</th>\n",
       "      <th>frame.time_relative</th>\n",
       "      <th>frame.len</th>\n",
       "      <th>frame.cap_len</th>\n",
       "      <th>frame.marked</th>\n",
       "      <th>frame.ignored</th>\n",
       "      <th>...</th>\n",
       "      <th>wlan.fc.pwrmgt</th>\n",
       "      <th>wlan.fc.moredata</th>\n",
       "      <th>wlan.fc.protected</th>\n",
       "      <th>wlan.fc.order</th>\n",
       "      <th>wlan.duration</th>\n",
       "      <th>wlan.frag</th>\n",
       "      <th>wlan.seq</th>\n",
       "      <th>wlan.fcs_good</th>\n",
       "      <th>wlan.wep.key</th>\n",
       "      <th>data.len</th>\n",
       "    </tr>\n",
       "  </thead>\n",
       "  <tbody>\n",
       "    <tr>\n",
       "      <th>17</th>\n",
       "      <td>0</td>\n",
       "      <td>0.0</td>\n",
       "      <td>1.393661e+09</td>\n",
       "      <td>0.002270</td>\n",
       "      <td>0.002270</td>\n",
       "      <td>0.217518</td>\n",
       "      <td>1524</td>\n",
       "      <td>1524</td>\n",
       "      <td>0</td>\n",
       "      <td>0</td>\n",
       "      <td>...</td>\n",
       "      <td>0</td>\n",
       "      <td>0</td>\n",
       "      <td>1</td>\n",
       "      <td>0</td>\n",
       "      <td>44</td>\n",
       "      <td>0</td>\n",
       "      <td>96</td>\n",
       "      <td>1</td>\n",
       "      <td>0</td>\n",
       "      <td>1460</td>\n",
       "    </tr>\n",
       "    <tr>\n",
       "      <th>18</th>\n",
       "      <td>0</td>\n",
       "      <td>0.0</td>\n",
       "      <td>1.393661e+09</td>\n",
       "      <td>0.000621</td>\n",
       "      <td>0.000621</td>\n",
       "      <td>0.218139</td>\n",
       "      <td>124</td>\n",
       "      <td>124</td>\n",
       "      <td>0</td>\n",
       "      <td>0</td>\n",
       "      <td>...</td>\n",
       "      <td>0</td>\n",
       "      <td>0</td>\n",
       "      <td>1</td>\n",
       "      <td>0</td>\n",
       "      <td>44</td>\n",
       "      <td>0</td>\n",
       "      <td>1217</td>\n",
       "      <td>1</td>\n",
       "      <td>0</td>\n",
       "      <td>60</td>\n",
       "    </tr>\n",
       "    <tr>\n",
       "      <th>20</th>\n",
       "      <td>0</td>\n",
       "      <td>0.0</td>\n",
       "      <td>1.393661e+09</td>\n",
       "      <td>0.000144</td>\n",
       "      <td>0.000144</td>\n",
       "      <td>0.229118</td>\n",
       "      <td>153</td>\n",
       "      <td>153</td>\n",
       "      <td>0</td>\n",
       "      <td>0</td>\n",
       "      <td>...</td>\n",
       "      <td>0</td>\n",
       "      <td>0</td>\n",
       "      <td>1</td>\n",
       "      <td>0</td>\n",
       "      <td>44</td>\n",
       "      <td>0</td>\n",
       "      <td>97</td>\n",
       "      <td>1</td>\n",
       "      <td>0</td>\n",
       "      <td>89</td>\n",
       "    </tr>\n",
       "    <tr>\n",
       "      <th>28</th>\n",
       "      <td>0</td>\n",
       "      <td>0.0</td>\n",
       "      <td>1.393661e+09</td>\n",
       "      <td>0.021711</td>\n",
       "      <td>0.021711</td>\n",
       "      <td>0.367359</td>\n",
       "      <td>124</td>\n",
       "      <td>124</td>\n",
       "      <td>0</td>\n",
       "      <td>0</td>\n",
       "      <td>...</td>\n",
       "      <td>0</td>\n",
       "      <td>0</td>\n",
       "      <td>1</td>\n",
       "      <td>0</td>\n",
       "      <td>44</td>\n",
       "      <td>0</td>\n",
       "      <td>1220</td>\n",
       "      <td>1</td>\n",
       "      <td>0</td>\n",
       "      <td>60</td>\n",
       "    </tr>\n",
       "    <tr>\n",
       "      <th>31</th>\n",
       "      <td>0</td>\n",
       "      <td>0.0</td>\n",
       "      <td>1.393661e+09</td>\n",
       "      <td>0.000058</td>\n",
       "      <td>0.000058</td>\n",
       "      <td>0.380933</td>\n",
       "      <td>124</td>\n",
       "      <td>124</td>\n",
       "      <td>0</td>\n",
       "      <td>0</td>\n",
       "      <td>...</td>\n",
       "      <td>0</td>\n",
       "      <td>0</td>\n",
       "      <td>1</td>\n",
       "      <td>0</td>\n",
       "      <td>44</td>\n",
       "      <td>0</td>\n",
       "      <td>99</td>\n",
       "      <td>1</td>\n",
       "      <td>0</td>\n",
       "      <td>60</td>\n",
       "    </tr>\n",
       "  </tbody>\n",
       "</table>\n",
       "<p>5 rows × 76 columns</p>\n",
       "</div>"
      ],
      "text/plain": [
       "    frame.interface_id  frame.offset_shift  frame.time_epoch  \\\n",
       "17                   0                 0.0      1.393661e+09   \n",
       "18                   0                 0.0      1.393661e+09   \n",
       "20                   0                 0.0      1.393661e+09   \n",
       "28                   0                 0.0      1.393661e+09   \n",
       "31                   0                 0.0      1.393661e+09   \n",
       "\n",
       "    frame.time_delta  frame.time_delta_displayed  frame.time_relative  \\\n",
       "17          0.002270                    0.002270             0.217518   \n",
       "18          0.000621                    0.000621             0.218139   \n",
       "20          0.000144                    0.000144             0.229118   \n",
       "28          0.021711                    0.021711             0.367359   \n",
       "31          0.000058                    0.000058             0.380933   \n",
       "\n",
       "    frame.len  frame.cap_len  frame.marked  frame.ignored  ...  \\\n",
       "17       1524           1524             0              0  ...   \n",
       "18        124            124             0              0  ...   \n",
       "20        153            153             0              0  ...   \n",
       "28        124            124             0              0  ...   \n",
       "31        124            124             0              0  ...   \n",
       "\n",
       "    wlan.fc.pwrmgt  wlan.fc.moredata  wlan.fc.protected  wlan.fc.order  \\\n",
       "17               0                 0                  1              0   \n",
       "18               0                 0                  1              0   \n",
       "20               0                 0                  1              0   \n",
       "28               0                 0                  1              0   \n",
       "31               0                 0                  1              0   \n",
       "\n",
       "    wlan.duration  wlan.frag  wlan.seq  wlan.fcs_good  wlan.wep.key  data.len  \n",
       "17             44          0        96              1             0      1460  \n",
       "18             44          0      1217              1             0        60  \n",
       "20             44          0        97              1             0        89  \n",
       "28             44          0      1220              1             0        60  \n",
       "31             44          0        99              1             0        60  \n",
       "\n",
       "[5 rows x 76 columns]"
      ]
     },
     "execution_count": 17,
     "metadata": {},
     "output_type": "execute_result"
    }
   ],
   "source": [
    "awid.select_dtypes(['number']).head()"
   ]
  },
  {
   "cell_type": "markdown",
   "metadata": {},
   "source": [
    "<h2>Splitting the training data</h2>"
   ]
  },
  {
   "cell_type": "code",
   "execution_count": 18,
   "metadata": {},
   "outputs": [],
   "source": [
    "X_train, y_train = awid.select_dtypes(['number']), awid['class']\n"
   ]
  },
  {
   "cell_type": "code",
   "execution_count": 19,
   "metadata": {},
   "outputs": [
    {
     "data": {
      "text/plain": [
       "normal           775634\n",
       "arp               64609\n",
       "cafe_latte        44731\n",
       "fragmentation       770\n",
       "Name: class, dtype: int64"
      ]
     },
     "execution_count": 19,
     "metadata": {},
     "output_type": "execute_result"
    }
   ],
   "source": [
    "y_train.value_counts()"
   ]
  },
  {
   "cell_type": "markdown",
   "metadata": {},
   "source": [
    "<h2>Removing all the Constant of training data</h2>"
   ]
  },
  {
   "cell_type": "code",
   "execution_count": 20,
   "metadata": {},
   "outputs": [
    {
     "data": {
      "text/plain": [
       "(885744, 13)"
      ]
     },
     "execution_count": 20,
     "metadata": {},
     "output_type": "execute_result"
    }
   ],
   "source": [
    "zero_mean=X_train.columns[X_train.mean() <= 1]\n",
    "X_train.drop(zero_mean, axis=1, inplace=True, errors='ignore')\n",
    "X_train.shape"
   ]
  },
  {
   "cell_type": "code",
   "execution_count": 21,
   "metadata": {},
   "outputs": [
    {
     "data": {
      "text/html": [
       "<div>\n",
       "<style scoped>\n",
       "    .dataframe tbody tr th:only-of-type {\n",
       "        vertical-align: middle;\n",
       "    }\n",
       "\n",
       "    .dataframe tbody tr th {\n",
       "        vertical-align: top;\n",
       "    }\n",
       "\n",
       "    .dataframe thead th {\n",
       "        text-align: right;\n",
       "    }\n",
       "</style>\n",
       "<table border=\"1\" class=\"dataframe\">\n",
       "  <thead>\n",
       "    <tr style=\"text-align: right;\">\n",
       "      <th></th>\n",
       "      <th>frame.time_epoch</th>\n",
       "      <th>frame.time_relative</th>\n",
       "      <th>frame.len</th>\n",
       "      <th>frame.cap_len</th>\n",
       "      <th>radiotap.length</th>\n",
       "      <th>radiotap.mactime</th>\n",
       "      <th>radiotap.datarate</th>\n",
       "      <th>radiotap.channel.freq</th>\n",
       "      <th>wlan.fc.type</th>\n",
       "      <th>wlan.fc.subtype</th>\n",
       "      <th>wlan.duration</th>\n",
       "      <th>wlan.seq</th>\n",
       "      <th>data.len</th>\n",
       "    </tr>\n",
       "  </thead>\n",
       "  <tbody>\n",
       "    <tr>\n",
       "      <th>count</th>\n",
       "      <td>8.857440e+05</td>\n",
       "      <td>885744.000000</td>\n",
       "      <td>885744.000000</td>\n",
       "      <td>885744.000000</td>\n",
       "      <td>885744.0</td>\n",
       "      <td>8.857440e+05</td>\n",
       "      <td>885744.000000</td>\n",
       "      <td>885744.000000</td>\n",
       "      <td>885744.000000</td>\n",
       "      <td>885744.000000</td>\n",
       "      <td>885744.000000</td>\n",
       "      <td>885744.000000</td>\n",
       "      <td>885744.000000</td>\n",
       "    </tr>\n",
       "    <tr>\n",
       "      <th>mean</th>\n",
       "      <td>1.393663e+09</td>\n",
       "      <td>1804.671067</td>\n",
       "      <td>967.176877</td>\n",
       "      <td>967.176877</td>\n",
       "      <td>26.0</td>\n",
       "      <td>3.906253e+09</td>\n",
       "      <td>42.140876</td>\n",
       "      <td>2437.008022</td>\n",
       "      <td>1.999688</td>\n",
       "      <td>5.973751</td>\n",
       "      <td>60.130699</td>\n",
       "      <td>1909.654222</td>\n",
       "      <td>903.683868</td>\n",
       "    </tr>\n",
       "    <tr>\n",
       "      <th>std</th>\n",
       "      <td>8.321081e+02</td>\n",
       "      <td>832.108077</td>\n",
       "      <td>699.334423</td>\n",
       "      <td>699.334423</td>\n",
       "      <td>0.0</td>\n",
       "      <td>8.320998e+08</td>\n",
       "      <td>20.953351</td>\n",
       "      <td>0.535839</td>\n",
       "      <td>0.024962</td>\n",
       "      <td>3.479865</td>\n",
       "      <td>75.964734</td>\n",
       "      <td>1213.594220</td>\n",
       "      <td>698.842577</td>\n",
       "    </tr>\n",
       "    <tr>\n",
       "      <th>min</th>\n",
       "      <td>1.393661e+09</td>\n",
       "      <td>0.217518</td>\n",
       "      <td>65.000000</td>\n",
       "      <td>65.000000</td>\n",
       "      <td>26.0</td>\n",
       "      <td>2.101817e+09</td>\n",
       "      <td>1.000000</td>\n",
       "      <td>2412.000000</td>\n",
       "      <td>0.000000</td>\n",
       "      <td>0.000000</td>\n",
       "      <td>0.000000</td>\n",
       "      <td>0.000000</td>\n",
       "      <td>3.000000</td>\n",
       "    </tr>\n",
       "    <tr>\n",
       "      <th>25%</th>\n",
       "      <td>1.393662e+09</td>\n",
       "      <td>961.030475</td>\n",
       "      <td>124.000000</td>\n",
       "      <td>124.000000</td>\n",
       "      <td>26.0</td>\n",
       "      <td>3.062621e+09</td>\n",
       "      <td>48.000000</td>\n",
       "      <td>2437.000000</td>\n",
       "      <td>2.000000</td>\n",
       "      <td>0.000000</td>\n",
       "      <td>44.000000</td>\n",
       "      <td>798.000000</td>\n",
       "      <td>60.000000</td>\n",
       "    </tr>\n",
       "    <tr>\n",
       "      <th>50%</th>\n",
       "      <td>1.393663e+09</td>\n",
       "      <td>1929.983103</td>\n",
       "      <td>1552.000000</td>\n",
       "      <td>1552.000000</td>\n",
       "      <td>26.0</td>\n",
       "      <td>4.031564e+09</td>\n",
       "      <td>54.000000</td>\n",
       "      <td>2437.000000</td>\n",
       "      <td>2.000000</td>\n",
       "      <td>8.000000</td>\n",
       "      <td>44.000000</td>\n",
       "      <td>1862.000000</td>\n",
       "      <td>1488.000000</td>\n",
       "    </tr>\n",
       "    <tr>\n",
       "      <th>75%</th>\n",
       "      <td>1.393664e+09</td>\n",
       "      <td>2206.561865</td>\n",
       "      <td>1554.000000</td>\n",
       "      <td>1554.000000</td>\n",
       "      <td>26.0</td>\n",
       "      <td>4.308140e+09</td>\n",
       "      <td>54.000000</td>\n",
       "      <td>2437.000000</td>\n",
       "      <td>2.000000</td>\n",
       "      <td>8.000000</td>\n",
       "      <td>44.000000</td>\n",
       "      <td>2957.000000</td>\n",
       "      <td>1490.000000</td>\n",
       "    </tr>\n",
       "    <tr>\n",
       "      <th>max</th>\n",
       "      <td>1.393665e+09</td>\n",
       "      <td>3599.425846</td>\n",
       "      <td>1570.000000</td>\n",
       "      <td>1570.000000</td>\n",
       "      <td>26.0</td>\n",
       "      <td>5.700990e+09</td>\n",
       "      <td>54.000000</td>\n",
       "      <td>2472.000000</td>\n",
       "      <td>2.000000</td>\n",
       "      <td>11.000000</td>\n",
       "      <td>314.000000</td>\n",
       "      <td>4095.000000</td>\n",
       "      <td>1508.000000</td>\n",
       "    </tr>\n",
       "  </tbody>\n",
       "</table>\n",
       "</div>"
      ],
      "text/plain": [
       "       frame.time_epoch  frame.time_relative      frame.len  frame.cap_len  \\\n",
       "count      8.857440e+05        885744.000000  885744.000000  885744.000000   \n",
       "mean       1.393663e+09          1804.671067     967.176877     967.176877   \n",
       "std        8.321081e+02           832.108077     699.334423     699.334423   \n",
       "min        1.393661e+09             0.217518      65.000000      65.000000   \n",
       "25%        1.393662e+09           961.030475     124.000000     124.000000   \n",
       "50%        1.393663e+09          1929.983103    1552.000000    1552.000000   \n",
       "75%        1.393664e+09          2206.561865    1554.000000    1554.000000   \n",
       "max        1.393665e+09          3599.425846    1570.000000    1570.000000   \n",
       "\n",
       "       radiotap.length  radiotap.mactime  radiotap.datarate  \\\n",
       "count         885744.0      8.857440e+05      885744.000000   \n",
       "mean              26.0      3.906253e+09          42.140876   \n",
       "std                0.0      8.320998e+08          20.953351   \n",
       "min               26.0      2.101817e+09           1.000000   \n",
       "25%               26.0      3.062621e+09          48.000000   \n",
       "50%               26.0      4.031564e+09          54.000000   \n",
       "75%               26.0      4.308140e+09          54.000000   \n",
       "max               26.0      5.700990e+09          54.000000   \n",
       "\n",
       "       radiotap.channel.freq   wlan.fc.type  wlan.fc.subtype  wlan.duration  \\\n",
       "count          885744.000000  885744.000000    885744.000000  885744.000000   \n",
       "mean             2437.008022       1.999688         5.973751      60.130699   \n",
       "std                 0.535839       0.024962         3.479865      75.964734   \n",
       "min              2412.000000       0.000000         0.000000       0.000000   \n",
       "25%              2437.000000       2.000000         0.000000      44.000000   \n",
       "50%              2437.000000       2.000000         8.000000      44.000000   \n",
       "75%              2437.000000       2.000000         8.000000      44.000000   \n",
       "max              2472.000000       2.000000        11.000000     314.000000   \n",
       "\n",
       "            wlan.seq       data.len  \n",
       "count  885744.000000  885744.000000  \n",
       "mean     1909.654222     903.683868  \n",
       "std      1213.594220     698.842577  \n",
       "min         0.000000       3.000000  \n",
       "25%       798.000000      60.000000  \n",
       "50%      1862.000000    1488.000000  \n",
       "75%      2957.000000    1490.000000  \n",
       "max      4095.000000    1508.000000  "
      ]
     },
     "execution_count": 21,
     "metadata": {},
     "output_type": "execute_result"
    }
   ],
   "source": [
    "X_train.describe()"
   ]
  },
  {
   "cell_type": "markdown",
   "metadata": {},
   "source": [
    "<h2>Testing Data</h2>"
   ]
  },
  {
   "cell_type": "code",
   "execution_count": 22,
   "metadata": {
    "scrolled": true
   },
   "outputs": [
    {
     "name": "stderr",
     "output_type": "stream",
     "text": [
      "C:\\Users\\LENONVO\\AppData\\Local\\Temp\\ipykernel_12236\\1689115243.py:1: DtypeWarning: Columns (37,38,39,40,41,42,43,44,45,47,48,49,50,51,52,53,54,55,56,57,58,59,60,61,62,74,88) have mixed types. Specify dtype option on import or set low_memory=False.\n",
      "  awid_test = pd.read_csv(\"dataset-test.csv\", header=None, names=features)\n"
     ]
    }
   ],
   "source": [
    "awid_test = pd.read_csv(\"dataset-test.csv\", header=None, names=features)\n"
   ]
  },
  {
   "cell_type": "markdown",
   "metadata": {},
   "source": [
    "<h2>Cleaning testing data</h2>"
   ]
  },
  {
   "cell_type": "code",
   "execution_count": 23,
   "metadata": {},
   "outputs": [],
   "source": [
    "awid_test.isna().sum()\n",
    "awid_test.replace({\"?\":None}, inplace=True)\n",
    "test_null_column=awid_test.columns[awid_test.isnull().mean() >= 0.5]\n",
    "awid_test.drop(test_null_column, axis=1, inplace=True)\n",
    "awid_test.dropna(inplace=True)\n",
    "\n",
    "for col in awid_test.columns:\n",
    "    awid_test[col]=pd.to_numeric(awid_test[col], errors='ignore')\n",
    "\n",
    "\n",
    "X_test, y_test = awid_test.select_dtypes(['number']), awid_test['class']\n",
    "\n",
    "zero_mean=X_test.columns[X_test.mean() <= 1]\n",
    "X_test.drop(zero_mean, axis=1, inplace=True, errors='ignore')"
   ]
  },
  {
   "cell_type": "code",
   "execution_count": 24,
   "metadata": {},
   "outputs": [
    {
     "data": {
      "text/html": [
       "<div>\n",
       "<style scoped>\n",
       "    .dataframe tbody tr th:only-of-type {\n",
       "        vertical-align: middle;\n",
       "    }\n",
       "\n",
       "    .dataframe tbody tr th {\n",
       "        vertical-align: top;\n",
       "    }\n",
       "\n",
       "    .dataframe thead th {\n",
       "        text-align: right;\n",
       "    }\n",
       "</style>\n",
       "<table border=\"1\" class=\"dataframe\">\n",
       "  <thead>\n",
       "    <tr style=\"text-align: right;\">\n",
       "      <th></th>\n",
       "      <th>frame.time_epoch</th>\n",
       "      <th>frame.time_relative</th>\n",
       "      <th>frame.len</th>\n",
       "      <th>frame.cap_len</th>\n",
       "      <th>radiotap.length</th>\n",
       "      <th>radiotap.mactime</th>\n",
       "      <th>radiotap.datarate</th>\n",
       "      <th>radiotap.channel.freq</th>\n",
       "      <th>wlan.fc.type</th>\n",
       "      <th>wlan.fc.subtype</th>\n",
       "      <th>wlan.duration</th>\n",
       "      <th>wlan.seq</th>\n",
       "      <th>data.len</th>\n",
       "    </tr>\n",
       "  </thead>\n",
       "  <tbody>\n",
       "    <tr>\n",
       "      <th>count</th>\n",
       "      <td>3.132480e+05</td>\n",
       "      <td>313248.000000</td>\n",
       "      <td>313248.000000</td>\n",
       "      <td>313248.000000</td>\n",
       "      <td>313248.0</td>\n",
       "      <td>3.132480e+05</td>\n",
       "      <td>313248.000000</td>\n",
       "      <td>313248.000000</td>\n",
       "      <td>313248.000000</td>\n",
       "      <td>313248.000000</td>\n",
       "      <td>313248.000000</td>\n",
       "      <td>313248.000000</td>\n",
       "      <td>313248.000000</td>\n",
       "    </tr>\n",
       "    <tr>\n",
       "      <th>mean</th>\n",
       "      <td>1.393669e+09</td>\n",
       "      <td>419.131540</td>\n",
       "      <td>892.088681</td>\n",
       "      <td>892.088681</td>\n",
       "      <td>26.0</td>\n",
       "      <td>9.407048e+09</td>\n",
       "      <td>36.257678</td>\n",
       "      <td>2437.006544</td>\n",
       "      <td>1.999757</td>\n",
       "      <td>4.797611</td>\n",
       "      <td>80.225144</td>\n",
       "      <td>1849.670600</td>\n",
       "      <td>828.889611</td>\n",
       "    </tr>\n",
       "    <tr>\n",
       "      <th>std</th>\n",
       "      <td>3.968335e+02</td>\n",
       "      <td>396.833483</td>\n",
       "      <td>713.371196</td>\n",
       "      <td>713.371196</td>\n",
       "      <td>0.0</td>\n",
       "      <td>3.968294e+08</td>\n",
       "      <td>21.867087</td>\n",
       "      <td>0.563983</td>\n",
       "      <td>0.022027</td>\n",
       "      <td>3.920187</td>\n",
       "      <td>98.175003</td>\n",
       "      <td>1158.063441</td>\n",
       "      <td>712.901695</td>\n",
       "    </tr>\n",
       "    <tr>\n",
       "      <th>min</th>\n",
       "      <td>1.393668e+09</td>\n",
       "      <td>0.000000</td>\n",
       "      <td>65.000000</td>\n",
       "      <td>65.000000</td>\n",
       "      <td>26.0</td>\n",
       "      <td>8.987921e+09</td>\n",
       "      <td>1.000000</td>\n",
       "      <td>2412.000000</td>\n",
       "      <td>0.000000</td>\n",
       "      <td>0.000000</td>\n",
       "      <td>0.000000</td>\n",
       "      <td>0.000000</td>\n",
       "      <td>3.000000</td>\n",
       "    </tr>\n",
       "    <tr>\n",
       "      <th>25%</th>\n",
       "      <td>1.393668e+09</td>\n",
       "      <td>74.256986</td>\n",
       "      <td>124.000000</td>\n",
       "      <td>124.000000</td>\n",
       "      <td>26.0</td>\n",
       "      <td>9.062177e+09</td>\n",
       "      <td>18.000000</td>\n",
       "      <td>2437.000000</td>\n",
       "      <td>2.000000</td>\n",
       "      <td>0.000000</td>\n",
       "      <td>44.000000</td>\n",
       "      <td>920.000000</td>\n",
       "      <td>60.000000</td>\n",
       "    </tr>\n",
       "    <tr>\n",
       "      <th>50%</th>\n",
       "      <td>1.393668e+09</td>\n",
       "      <td>255.078000</td>\n",
       "      <td>1552.000000</td>\n",
       "      <td>1552.000000</td>\n",
       "      <td>26.0</td>\n",
       "      <td>9.242996e+09</td>\n",
       "      <td>54.000000</td>\n",
       "      <td>2437.000000</td>\n",
       "      <td>2.000000</td>\n",
       "      <td>8.000000</td>\n",
       "      <td>44.000000</td>\n",
       "      <td>1646.000000</td>\n",
       "      <td>1488.000000</td>\n",
       "    </tr>\n",
       "    <tr>\n",
       "      <th>75%</th>\n",
       "      <td>1.393669e+09</td>\n",
       "      <td>852.944268</td>\n",
       "      <td>1552.000000</td>\n",
       "      <td>1552.000000</td>\n",
       "      <td>26.0</td>\n",
       "      <td>9.840856e+09</td>\n",
       "      <td>54.000000</td>\n",
       "      <td>2437.000000</td>\n",
       "      <td>2.000000</td>\n",
       "      <td>8.000000</td>\n",
       "      <td>44.000000</td>\n",
       "      <td>2812.000000</td>\n",
       "      <td>1488.000000</td>\n",
       "    </tr>\n",
       "    <tr>\n",
       "      <th>max</th>\n",
       "      <td>1.393669e+09</td>\n",
       "      <td>1200.289872</td>\n",
       "      <td>1570.000000</td>\n",
       "      <td>1570.000000</td>\n",
       "      <td>26.0</td>\n",
       "      <td>1.018820e+10</td>\n",
       "      <td>54.000000</td>\n",
       "      <td>2472.000000</td>\n",
       "      <td>2.000000</td>\n",
       "      <td>11.000000</td>\n",
       "      <td>314.000000</td>\n",
       "      <td>4095.000000</td>\n",
       "      <td>1508.000000</td>\n",
       "    </tr>\n",
       "  </tbody>\n",
       "</table>\n",
       "</div>"
      ],
      "text/plain": [
       "       frame.time_epoch  frame.time_relative      frame.len  frame.cap_len  \\\n",
       "count      3.132480e+05        313248.000000  313248.000000  313248.000000   \n",
       "mean       1.393669e+09           419.131540     892.088681     892.088681   \n",
       "std        3.968335e+02           396.833483     713.371196     713.371196   \n",
       "min        1.393668e+09             0.000000      65.000000      65.000000   \n",
       "25%        1.393668e+09            74.256986     124.000000     124.000000   \n",
       "50%        1.393668e+09           255.078000    1552.000000    1552.000000   \n",
       "75%        1.393669e+09           852.944268    1552.000000    1552.000000   \n",
       "max        1.393669e+09          1200.289872    1570.000000    1570.000000   \n",
       "\n",
       "       radiotap.length  radiotap.mactime  radiotap.datarate  \\\n",
       "count         313248.0      3.132480e+05      313248.000000   \n",
       "mean              26.0      9.407048e+09          36.257678   \n",
       "std                0.0      3.968294e+08          21.867087   \n",
       "min               26.0      8.987921e+09           1.000000   \n",
       "25%               26.0      9.062177e+09          18.000000   \n",
       "50%               26.0      9.242996e+09          54.000000   \n",
       "75%               26.0      9.840856e+09          54.000000   \n",
       "max               26.0      1.018820e+10          54.000000   \n",
       "\n",
       "       radiotap.channel.freq   wlan.fc.type  wlan.fc.subtype  wlan.duration  \\\n",
       "count          313248.000000  313248.000000    313248.000000  313248.000000   \n",
       "mean             2437.006544       1.999757         4.797611      80.225144   \n",
       "std                 0.563983       0.022027         3.920187      98.175003   \n",
       "min              2412.000000       0.000000         0.000000       0.000000   \n",
       "25%              2437.000000       2.000000         0.000000      44.000000   \n",
       "50%              2437.000000       2.000000         8.000000      44.000000   \n",
       "75%              2437.000000       2.000000         8.000000      44.000000   \n",
       "max              2472.000000       2.000000        11.000000     314.000000   \n",
       "\n",
       "            wlan.seq       data.len  \n",
       "count  313248.000000  313248.000000  \n",
       "mean     1849.670600     828.889611  \n",
       "std      1158.063441     712.901695  \n",
       "min         0.000000       3.000000  \n",
       "25%       920.000000      60.000000  \n",
       "50%      1646.000000    1488.000000  \n",
       "75%      2812.000000    1488.000000  \n",
       "max      4095.000000    1508.000000  "
      ]
     },
     "execution_count": 24,
     "metadata": {},
     "output_type": "execute_result"
    }
   ],
   "source": [
    "X_test.describe()"
   ]
  },
  {
   "cell_type": "code",
   "execution_count": 25,
   "metadata": {},
   "outputs": [
    {
     "data": {
      "text/plain": [
       "normal           277960\n",
       "hirte             18606\n",
       "arp               13644\n",
       "chop_chop          2871\n",
       "fragmentation       167\n",
       "Name: class, dtype: int64"
      ]
     },
     "execution_count": 25,
     "metadata": {},
     "output_type": "execute_result"
    }
   ],
   "source": [
    "y_test.value_counts()"
   ]
  },
  {
   "cell_type": "markdown",
   "metadata": {},
   "source": [
    "<h2>Preprocessing  </h2> "
   ]
  },
  {
   "cell_type": "code",
   "execution_count": 26,
   "metadata": {},
   "outputs": [],
   "source": [
    "from sklearn.preprocessing import StandardScaler"
   ]
  },
  {
   "cell_type": "code",
   "execution_count": 27,
   "metadata": {},
   "outputs": [],
   "source": [
    "sc=StandardScaler()\n",
    "sc.fit(X_train)\n",
    "scaled_X_train=sc.transform(X_train)\n",
    "\n",
    "sc1=StandardScaler()\n",
    "sc1.fit(X_test)\n",
    "scaled_X_test=sc1.transform(X_test)"
   ]
  },
  {
   "cell_type": "code",
   "execution_count": 28,
   "metadata": {},
   "outputs": [
    {
     "data": {
      "text/html": [
       "<div>\n",
       "<style scoped>\n",
       "    .dataframe tbody tr th:only-of-type {\n",
       "        vertical-align: middle;\n",
       "    }\n",
       "\n",
       "    .dataframe tbody tr th {\n",
       "        vertical-align: top;\n",
       "    }\n",
       "\n",
       "    .dataframe thead th {\n",
       "        text-align: right;\n",
       "    }\n",
       "</style>\n",
       "<table border=\"1\" class=\"dataframe\">\n",
       "  <thead>\n",
       "    <tr style=\"text-align: right;\">\n",
       "      <th></th>\n",
       "      <th>frame.time_epoch</th>\n",
       "      <th>frame.time_relative</th>\n",
       "      <th>frame.len</th>\n",
       "      <th>frame.cap_len</th>\n",
       "      <th>radiotap.length</th>\n",
       "      <th>radiotap.mactime</th>\n",
       "      <th>radiotap.datarate</th>\n",
       "      <th>radiotap.channel.freq</th>\n",
       "      <th>wlan.fc.type</th>\n",
       "      <th>wlan.fc.subtype</th>\n",
       "      <th>wlan.duration</th>\n",
       "      <th>wlan.seq</th>\n",
       "      <th>data.len</th>\n",
       "    </tr>\n",
       "  </thead>\n",
       "  <tbody>\n",
       "    <tr>\n",
       "      <th>17</th>\n",
       "      <td>1.393661e+09</td>\n",
       "      <td>0.217518</td>\n",
       "      <td>1524</td>\n",
       "      <td>1524</td>\n",
       "      <td>26</td>\n",
       "      <td>2101817362</td>\n",
       "      <td>54.0</td>\n",
       "      <td>2437</td>\n",
       "      <td>2</td>\n",
       "      <td>8</td>\n",
       "      <td>44</td>\n",
       "      <td>96</td>\n",
       "      <td>1460</td>\n",
       "    </tr>\n",
       "    <tr>\n",
       "      <th>18</th>\n",
       "      <td>1.393661e+09</td>\n",
       "      <td>0.218139</td>\n",
       "      <td>124</td>\n",
       "      <td>124</td>\n",
       "      <td>26</td>\n",
       "      <td>2101818213</td>\n",
       "      <td>54.0</td>\n",
       "      <td>2437</td>\n",
       "      <td>2</td>\n",
       "      <td>8</td>\n",
       "      <td>44</td>\n",
       "      <td>1217</td>\n",
       "      <td>60</td>\n",
       "    </tr>\n",
       "    <tr>\n",
       "      <th>20</th>\n",
       "      <td>1.393661e+09</td>\n",
       "      <td>0.229118</td>\n",
       "      <td>153</td>\n",
       "      <td>153</td>\n",
       "      <td>26</td>\n",
       "      <td>2101829175</td>\n",
       "      <td>54.0</td>\n",
       "      <td>2437</td>\n",
       "      <td>2</td>\n",
       "      <td>8</td>\n",
       "      <td>44</td>\n",
       "      <td>97</td>\n",
       "      <td>89</td>\n",
       "    </tr>\n",
       "    <tr>\n",
       "      <th>28</th>\n",
       "      <td>1.393661e+09</td>\n",
       "      <td>0.367359</td>\n",
       "      <td>124</td>\n",
       "      <td>124</td>\n",
       "      <td>26</td>\n",
       "      <td>2101967429</td>\n",
       "      <td>54.0</td>\n",
       "      <td>2437</td>\n",
       "      <td>2</td>\n",
       "      <td>8</td>\n",
       "      <td>44</td>\n",
       "      <td>1220</td>\n",
       "      <td>60</td>\n",
       "    </tr>\n",
       "    <tr>\n",
       "      <th>31</th>\n",
       "      <td>1.393661e+09</td>\n",
       "      <td>0.380933</td>\n",
       "      <td>124</td>\n",
       "      <td>124</td>\n",
       "      <td>26</td>\n",
       "      <td>2101981052</td>\n",
       "      <td>54.0</td>\n",
       "      <td>2437</td>\n",
       "      <td>2</td>\n",
       "      <td>8</td>\n",
       "      <td>44</td>\n",
       "      <td>99</td>\n",
       "      <td>60</td>\n",
       "    </tr>\n",
       "    <tr>\n",
       "      <th>...</th>\n",
       "      <td>...</td>\n",
       "      <td>...</td>\n",
       "      <td>...</td>\n",
       "      <td>...</td>\n",
       "      <td>...</td>\n",
       "      <td>...</td>\n",
       "      <td>...</td>\n",
       "      <td>...</td>\n",
       "      <td>...</td>\n",
       "      <td>...</td>\n",
       "      <td>...</td>\n",
       "      <td>...</td>\n",
       "      <td>...</td>\n",
       "    </tr>\n",
       "    <tr>\n",
       "      <th>1795504</th>\n",
       "      <td>1.393665e+09</td>\n",
       "      <td>3599.043342</td>\n",
       "      <td>112</td>\n",
       "      <td>112</td>\n",
       "      <td>26</td>\n",
       "      <td>5700607575</td>\n",
       "      <td>18.0</td>\n",
       "      <td>2437</td>\n",
       "      <td>2</td>\n",
       "      <td>8</td>\n",
       "      <td>48</td>\n",
       "      <td>2608</td>\n",
       "      <td>48</td>\n",
       "    </tr>\n",
       "    <tr>\n",
       "      <th>1795511</th>\n",
       "      <td>1.393665e+09</td>\n",
       "      <td>3599.086311</td>\n",
       "      <td>112</td>\n",
       "      <td>112</td>\n",
       "      <td>26</td>\n",
       "      <td>5700650521</td>\n",
       "      <td>18.0</td>\n",
       "      <td>2437</td>\n",
       "      <td>2</td>\n",
       "      <td>8</td>\n",
       "      <td>48</td>\n",
       "      <td>2609</td>\n",
       "      <td>48</td>\n",
       "    </tr>\n",
       "    <tr>\n",
       "      <th>1795551</th>\n",
       "      <td>1.393665e+09</td>\n",
       "      <td>3599.323495</td>\n",
       "      <td>1524</td>\n",
       "      <td>1524</td>\n",
       "      <td>26</td>\n",
       "      <td>5700887520</td>\n",
       "      <td>54.0</td>\n",
       "      <td>2437</td>\n",
       "      <td>2</td>\n",
       "      <td>8</td>\n",
       "      <td>44</td>\n",
       "      <td>0</td>\n",
       "      <td>1460</td>\n",
       "    </tr>\n",
       "    <tr>\n",
       "      <th>1795556</th>\n",
       "      <td>1.393665e+09</td>\n",
       "      <td>3599.375225</td>\n",
       "      <td>1523</td>\n",
       "      <td>1523</td>\n",
       "      <td>26</td>\n",
       "      <td>5700939250</td>\n",
       "      <td>54.0</td>\n",
       "      <td>2437</td>\n",
       "      <td>2</td>\n",
       "      <td>8</td>\n",
       "      <td>44</td>\n",
       "      <td>1</td>\n",
       "      <td>1459</td>\n",
       "    </tr>\n",
       "    <tr>\n",
       "      <th>1795561</th>\n",
       "      <td>1.393665e+09</td>\n",
       "      <td>3599.425846</td>\n",
       "      <td>440</td>\n",
       "      <td>440</td>\n",
       "      <td>26</td>\n",
       "      <td>5700990054</td>\n",
       "      <td>54.0</td>\n",
       "      <td>2437</td>\n",
       "      <td>2</td>\n",
       "      <td>8</td>\n",
       "      <td>44</td>\n",
       "      <td>729</td>\n",
       "      <td>376</td>\n",
       "    </tr>\n",
       "  </tbody>\n",
       "</table>\n",
       "<p>885744 rows × 13 columns</p>\n",
       "</div>"
      ],
      "text/plain": [
       "         frame.time_epoch  frame.time_relative  frame.len  frame.cap_len  \\\n",
       "17           1.393661e+09             0.217518       1524           1524   \n",
       "18           1.393661e+09             0.218139        124            124   \n",
       "20           1.393661e+09             0.229118        153            153   \n",
       "28           1.393661e+09             0.367359        124            124   \n",
       "31           1.393661e+09             0.380933        124            124   \n",
       "...                   ...                  ...        ...            ...   \n",
       "1795504      1.393665e+09          3599.043342        112            112   \n",
       "1795511      1.393665e+09          3599.086311        112            112   \n",
       "1795551      1.393665e+09          3599.323495       1524           1524   \n",
       "1795556      1.393665e+09          3599.375225       1523           1523   \n",
       "1795561      1.393665e+09          3599.425846        440            440   \n",
       "\n",
       "         radiotap.length  radiotap.mactime  radiotap.datarate  \\\n",
       "17                    26        2101817362               54.0   \n",
       "18                    26        2101818213               54.0   \n",
       "20                    26        2101829175               54.0   \n",
       "28                    26        2101967429               54.0   \n",
       "31                    26        2101981052               54.0   \n",
       "...                  ...               ...                ...   \n",
       "1795504               26        5700607575               18.0   \n",
       "1795511               26        5700650521               18.0   \n",
       "1795551               26        5700887520               54.0   \n",
       "1795556               26        5700939250               54.0   \n",
       "1795561               26        5700990054               54.0   \n",
       "\n",
       "         radiotap.channel.freq  wlan.fc.type  wlan.fc.subtype  wlan.duration  \\\n",
       "17                        2437             2                8             44   \n",
       "18                        2437             2                8             44   \n",
       "20                        2437             2                8             44   \n",
       "28                        2437             2                8             44   \n",
       "31                        2437             2                8             44   \n",
       "...                        ...           ...              ...            ...   \n",
       "1795504                   2437             2                8             48   \n",
       "1795511                   2437             2                8             48   \n",
       "1795551                   2437             2                8             44   \n",
       "1795556                   2437             2                8             44   \n",
       "1795561                   2437             2                8             44   \n",
       "\n",
       "         wlan.seq  data.len  \n",
       "17             96      1460  \n",
       "18           1217        60  \n",
       "20             97        89  \n",
       "28           1220        60  \n",
       "31             99        60  \n",
       "...           ...       ...  \n",
       "1795504      2608        48  \n",
       "1795511      2609        48  \n",
       "1795551         0      1460  \n",
       "1795556         1      1459  \n",
       "1795561       729       376  \n",
       "\n",
       "[885744 rows x 13 columns]"
      ]
     },
     "execution_count": 28,
     "metadata": {},
     "output_type": "execute_result"
    }
   ],
   "source": [
    "X_train"
   ]
  },
  {
   "cell_type": "code",
   "execution_count": 29,
   "metadata": {},
   "outputs": [
    {
     "name": "stdout",
     "output_type": "stream",
     "text": [
      "frame.time_epoch         float64\n",
      "frame.time_relative      float64\n",
      "frame.len                  int64\n",
      "frame.cap_len              int64\n",
      "radiotap.length            int64\n",
      "radiotap.mactime           int64\n",
      "radiotap.datarate        float64\n",
      "radiotap.channel.freq      int64\n",
      "wlan.fc.type               int64\n",
      "wlan.fc.subtype            int64\n",
      "wlan.duration              int64\n",
      "wlan.seq                   int64\n",
      "data.len                   int64\n",
      "dtype: object\n"
     ]
    }
   ],
   "source": [
    "\n",
    "print(X_train.dtypes)"
   ]
  },
  {
   "cell_type": "code",
   "execution_count": 30,
   "metadata": {},
   "outputs": [
    {
     "name": "stdout",
     "output_type": "stream",
     "text": [
      "[[-2.16853389 -2.16853389  0.79621912 ... -0.21234469 -1.49444948\n",
      "   0.79605402]\n",
      " [-2.16853315 -2.16853315 -1.20568547 ... -0.21234469 -0.57074647\n",
      "  -1.20725951]\n",
      " [-2.16851995 -2.16851995 -1.16421745 ... -0.21234469 -1.49362548\n",
      "  -1.1657623 ]\n",
      " ...\n",
      " [ 2.15675522  2.15675522  0.79621912 ... -0.21234469 -1.57355339\n",
      "   0.79605402]\n",
      " [ 2.15681739  2.15681739  0.79478919 ... -0.21234469 -1.57272939\n",
      "   0.79462309]\n",
      " [ 2.15687823  2.15687823 -0.75382701 ... -0.21234469 -0.97285803\n",
      "  -0.75508302]]\n",
      "float64\n"
     ]
    }
   ],
   "source": [
    "print(scaled_X_train)\n",
    "print(scaled_X_train.dtype)\n"
   ]
  },
  {
   "cell_type": "markdown",
   "metadata": {},
   "source": [
    "<h2>Encoding the label data</h2>"
   ]
  },
  {
   "cell_type": "code",
   "execution_count": 31,
   "metadata": {},
   "outputs": [],
   "source": [
    "from sklearn.preprocessing import LabelEncoder"
   ]
  },
  {
   "cell_type": "code",
   "execution_count": 81,
   "metadata": {},
   "outputs": [],
   "source": [
    "encoder = LabelEncoder()\n",
    "encoded_y=encoder.fit_transform(y_train)\n",
    "enc_y_test=encoder.fit_transform(y_test)"
   ]
  },
  {
   "cell_type": "code",
   "execution_count": 33,
   "metadata": {},
   "outputs": [
    {
     "data": {
      "text/plain": [
       "array(['arp', 'chop_chop', 'fragmentation', 'hirte', 'normal'],\n",
       "      dtype=object)"
      ]
     },
     "execution_count": 33,
     "metadata": {},
     "output_type": "execute_result"
    }
   ],
   "source": [
    "encoder.classes_"
   ]
  },
  {
   "cell_type": "code",
   "execution_count": 34,
   "metadata": {},
   "outputs": [
    {
     "data": {
      "text/plain": [
       "array([3, 3, 3, ..., 3, 3, 3])"
      ]
     },
     "execution_count": 34,
     "metadata": {},
     "output_type": "execute_result"
    }
   ],
   "source": [
    "encoded_y"
   ]
  },
  {
   "cell_type": "markdown",
   "metadata": {},
   "source": [
    "<h2>Classification Machine Learning Algorithm </h2>"
   ]
  },
  {
   "cell_type": "code",
   "execution_count": 35,
   "metadata": {},
   "outputs": [],
   "source": [
    "def model_accuracy(model):\n",
    "    y_preds=model.predict(X_test)\n",
    "    return accuracy_score(y_test, y_preds)"
   ]
  },
  {
   "cell_type": "code",
   "execution_count": 36,
   "metadata": {},
   "outputs": [],
   "source": [
    "from sklearn.linear_model import LogisticRegression"
   ]
  },
  {
   "cell_type": "code",
   "execution_count": 37,
   "metadata": {},
   "outputs": [
    {
     "data": {
      "text/plain": [
       "0.0"
      ]
     },
     "execution_count": 37,
     "metadata": {},
     "output_type": "execute_result"
    }
   ],
   "source": [
    "#Doesnot perform well for multiclass classification Problem \n",
    "lr=LogisticRegression()\n",
    "lr.fit(X_train, y_train)\n",
    "model_accuracy(lr)"
   ]
  },
  {
   "cell_type": "markdown",
   "metadata": {},
   "source": [
    "<h2>Some of the Best Algorithm for Classification Problem </h2>"
   ]
  },
  {
   "cell_type": "code",
   "execution_count": 38,
   "metadata": {},
   "outputs": [
    {
     "data": {
      "text/plain": [
       "0.9288263612217795"
      ]
     },
     "execution_count": 38,
     "metadata": {},
     "output_type": "execute_result"
    }
   ],
   "source": [
    "# Decision Tree Algorithm\n",
    "tree=DecisionTreeClassifier()\n",
    "tree.fit(X_train, y_train)\n",
    "model_accuracy(tree)"
   ]
  },
  {
   "cell_type": "code",
   "execution_count": 39,
   "metadata": {},
   "outputs": [
    {
     "data": {
      "text/plain": [
       "0.928925324343651"
      ]
     },
     "execution_count": 39,
     "metadata": {},
     "output_type": "execute_result"
    }
   ],
   "source": [
    "#Random Forest Classifier \n",
    "forest=RandomForestClassifier()\n",
    "forest.fit(X_train,y_train)\n",
    "model_accuracy(forest)"
   ]
  },
  {
   "cell_type": "code",
   "execution_count": 40,
   "metadata": {},
   "outputs": [],
   "source": [
    "from sklearn.model_selection import cross_val_score, cross_val_predict\n",
    "from sklearn.metrics import confusion_matrix\n"
   ]
  },
  {
   "cell_type": "markdown",
   "metadata": {},
   "source": [
    "<h2>Finding the True Positive, False Positive Rate for the Labels </h2>"
   ]
  },
  {
   "cell_type": "code",
   "execution_count": 41,
   "metadata": {},
   "outputs": [],
   "source": [
    "# when we are training the model with the labels outcomes of 'normal'\n",
    "y_train_norm=(y_train == 'normal')\n",
    "\n",
    "y_test_norm =(y_test =='normal')"
   ]
  },
  {
   "cell_type": "code",
   "execution_count": 42,
   "metadata": {},
   "outputs": [
    {
     "data": {
      "text/html": [
       "<style>#sk-container-id-1 {color: black;background-color: white;}#sk-container-id-1 pre{padding: 0;}#sk-container-id-1 div.sk-toggleable {background-color: white;}#sk-container-id-1 label.sk-toggleable__label {cursor: pointer;display: block;width: 100%;margin-bottom: 0;padding: 0.3em;box-sizing: border-box;text-align: center;}#sk-container-id-1 label.sk-toggleable__label-arrow:before {content: \"▸\";float: left;margin-right: 0.25em;color: #696969;}#sk-container-id-1 label.sk-toggleable__label-arrow:hover:before {color: black;}#sk-container-id-1 div.sk-estimator:hover label.sk-toggleable__label-arrow:before {color: black;}#sk-container-id-1 div.sk-toggleable__content {max-height: 0;max-width: 0;overflow: hidden;text-align: left;background-color: #f0f8ff;}#sk-container-id-1 div.sk-toggleable__content pre {margin: 0.2em;color: black;border-radius: 0.25em;background-color: #f0f8ff;}#sk-container-id-1 input.sk-toggleable__control:checked~div.sk-toggleable__content {max-height: 200px;max-width: 100%;overflow: auto;}#sk-container-id-1 input.sk-toggleable__control:checked~label.sk-toggleable__label-arrow:before {content: \"▾\";}#sk-container-id-1 div.sk-estimator input.sk-toggleable__control:checked~label.sk-toggleable__label {background-color: #d4ebff;}#sk-container-id-1 div.sk-label input.sk-toggleable__control:checked~label.sk-toggleable__label {background-color: #d4ebff;}#sk-container-id-1 input.sk-hidden--visually {border: 0;clip: rect(1px 1px 1px 1px);clip: rect(1px, 1px, 1px, 1px);height: 1px;margin: -1px;overflow: hidden;padding: 0;position: absolute;width: 1px;}#sk-container-id-1 div.sk-estimator {font-family: monospace;background-color: #f0f8ff;border: 1px dotted black;border-radius: 0.25em;box-sizing: border-box;margin-bottom: 0.5em;}#sk-container-id-1 div.sk-estimator:hover {background-color: #d4ebff;}#sk-container-id-1 div.sk-parallel-item::after {content: \"\";width: 100%;border-bottom: 1px solid gray;flex-grow: 1;}#sk-container-id-1 div.sk-label:hover label.sk-toggleable__label {background-color: #d4ebff;}#sk-container-id-1 div.sk-serial::before {content: \"\";position: absolute;border-left: 1px solid gray;box-sizing: border-box;top: 0;bottom: 0;left: 50%;z-index: 0;}#sk-container-id-1 div.sk-serial {display: flex;flex-direction: column;align-items: center;background-color: white;padding-right: 0.2em;padding-left: 0.2em;position: relative;}#sk-container-id-1 div.sk-item {position: relative;z-index: 1;}#sk-container-id-1 div.sk-parallel {display: flex;align-items: stretch;justify-content: center;background-color: white;position: relative;}#sk-container-id-1 div.sk-item::before, #sk-container-id-1 div.sk-parallel-item::before {content: \"\";position: absolute;border-left: 1px solid gray;box-sizing: border-box;top: 0;bottom: 0;left: 50%;z-index: -1;}#sk-container-id-1 div.sk-parallel-item {display: flex;flex-direction: column;z-index: 1;position: relative;background-color: white;}#sk-container-id-1 div.sk-parallel-item:first-child::after {align-self: flex-end;width: 50%;}#sk-container-id-1 div.sk-parallel-item:last-child::after {align-self: flex-start;width: 50%;}#sk-container-id-1 div.sk-parallel-item:only-child::after {width: 0;}#sk-container-id-1 div.sk-dashed-wrapped {border: 1px dashed gray;margin: 0 0.4em 0.5em 0.4em;box-sizing: border-box;padding-bottom: 0.4em;background-color: white;}#sk-container-id-1 div.sk-label label {font-family: monospace;font-weight: bold;display: inline-block;line-height: 1.2em;}#sk-container-id-1 div.sk-label-container {text-align: center;}#sk-container-id-1 div.sk-container {/* jupyter's `normalize.less` sets `[hidden] { display: none; }` but bootstrap.min.css set `[hidden] { display: none !important; }` so we also need the `!important` here to be able to override the default hidden behavior on the sphinx rendered scikit-learn.org. See: https://github.com/scikit-learn/scikit-learn/issues/21755 */display: inline-block !important;position: relative;}#sk-container-id-1 div.sk-text-repr-fallback {display: none;}</style><div id=\"sk-container-id-1\" class=\"sk-top-container\"><div class=\"sk-text-repr-fallback\"><pre>RandomForestClassifier()</pre><b>In a Jupyter environment, please rerun this cell to show the HTML representation or trust the notebook. <br />On GitHub, the HTML representation is unable to render, please try loading this page with nbviewer.org.</b></div><div class=\"sk-container\" hidden><div class=\"sk-item\"><div class=\"sk-estimator sk-toggleable\"><input class=\"sk-toggleable__control sk-hidden--visually\" id=\"sk-estimator-id-1\" type=\"checkbox\" checked><label for=\"sk-estimator-id-1\" class=\"sk-toggleable__label sk-toggleable__label-arrow\">RandomForestClassifier</label><div class=\"sk-toggleable__content\"><pre>RandomForestClassifier()</pre></div></div></div></div></div>"
      ],
      "text/plain": [
       "RandomForestClassifier()"
      ]
     },
     "execution_count": 42,
     "metadata": {},
     "output_type": "execute_result"
    }
   ],
   "source": [
    "forest.fit(X_train,y_train_norm)"
   ]
  },
  {
   "cell_type": "code",
   "execution_count": 43,
   "metadata": {},
   "outputs": [],
   "source": [
    "y_cross_acc=cross_val_score(forest,X_train, y_train_norm, cv=10, scoring=\"accuracy\")"
   ]
  },
  {
   "cell_type": "code",
   "execution_count": 44,
   "metadata": {},
   "outputs": [
    {
     "data": {
      "text/plain": [
       "array([0.9956534 , 1.        , 1.        , 0.99906294, 1.        ,\n",
       "       1.        , 1.        , 0.99880326, 0.68621717, 0.9971775 ])"
      ]
     },
     "execution_count": 44,
     "metadata": {},
     "output_type": "execute_result"
    }
   ],
   "source": [
    "y_cross_acc"
   ]
  },
  {
   "cell_type": "code",
   "execution_count": 45,
   "metadata": {},
   "outputs": [],
   "source": [
    "y_preds_norm = cross_val_predict(forest, X_train,y_train_norm, cv=10)"
   ]
  },
  {
   "cell_type": "code",
   "execution_count": 46,
   "metadata": {},
   "outputs": [
    {
     "data": {
      "text/plain": [
       "array([ True,  True,  True, ...,  True,  True,  True])"
      ]
     },
     "execution_count": 46,
     "metadata": {},
     "output_type": "execute_result"
    }
   ],
   "source": [
    "y_preds_norm"
   ]
  },
  {
   "cell_type": "code",
   "execution_count": 47,
   "metadata": {},
   "outputs": [
    {
     "data": {
      "text/plain": [
       "array([[109414,    696],\n",
       "       [ 27902, 747732]], dtype=int64)"
      ]
     },
     "execution_count": 47,
     "metadata": {},
     "output_type": "execute_result"
    }
   ],
   "source": [
    "confusion_matrix(y_train_norm, y_preds_norm)"
   ]
  },
  {
   "cell_type": "code",
   "execution_count": 48,
   "metadata": {},
   "outputs": [],
   "source": [
    "#perfect precision and recall because both the value of prediction and actual are same\n",
    "y_perfect_norm=y_train_norm"
   ]
  },
  {
   "cell_type": "code",
   "execution_count": 49,
   "metadata": {},
   "outputs": [
    {
     "data": {
      "text/plain": [
       "array([[110110,      0],\n",
       "       [     0, 775634]], dtype=int64)"
      ]
     },
     "execution_count": 49,
     "metadata": {},
     "output_type": "execute_result"
    }
   ],
   "source": [
    "confusion_matrix(y_train_norm, y_perfect_norm)"
   ]
  },
  {
   "cell_type": "code",
   "execution_count": null,
   "metadata": {},
   "outputs": [],
   "source": []
  },
  {
   "cell_type": "code",
   "execution_count": 50,
   "metadata": {
    "scrolled": true
   },
   "outputs": [
    {
     "data": {
      "text/html": [
       "<style>#sk-container-id-2 {color: black;background-color: white;}#sk-container-id-2 pre{padding: 0;}#sk-container-id-2 div.sk-toggleable {background-color: white;}#sk-container-id-2 label.sk-toggleable__label {cursor: pointer;display: block;width: 100%;margin-bottom: 0;padding: 0.3em;box-sizing: border-box;text-align: center;}#sk-container-id-2 label.sk-toggleable__label-arrow:before {content: \"▸\";float: left;margin-right: 0.25em;color: #696969;}#sk-container-id-2 label.sk-toggleable__label-arrow:hover:before {color: black;}#sk-container-id-2 div.sk-estimator:hover label.sk-toggleable__label-arrow:before {color: black;}#sk-container-id-2 div.sk-toggleable__content {max-height: 0;max-width: 0;overflow: hidden;text-align: left;background-color: #f0f8ff;}#sk-container-id-2 div.sk-toggleable__content pre {margin: 0.2em;color: black;border-radius: 0.25em;background-color: #f0f8ff;}#sk-container-id-2 input.sk-toggleable__control:checked~div.sk-toggleable__content {max-height: 200px;max-width: 100%;overflow: auto;}#sk-container-id-2 input.sk-toggleable__control:checked~label.sk-toggleable__label-arrow:before {content: \"▾\";}#sk-container-id-2 div.sk-estimator input.sk-toggleable__control:checked~label.sk-toggleable__label {background-color: #d4ebff;}#sk-container-id-2 div.sk-label input.sk-toggleable__control:checked~label.sk-toggleable__label {background-color: #d4ebff;}#sk-container-id-2 input.sk-hidden--visually {border: 0;clip: rect(1px 1px 1px 1px);clip: rect(1px, 1px, 1px, 1px);height: 1px;margin: -1px;overflow: hidden;padding: 0;position: absolute;width: 1px;}#sk-container-id-2 div.sk-estimator {font-family: monospace;background-color: #f0f8ff;border: 1px dotted black;border-radius: 0.25em;box-sizing: border-box;margin-bottom: 0.5em;}#sk-container-id-2 div.sk-estimator:hover {background-color: #d4ebff;}#sk-container-id-2 div.sk-parallel-item::after {content: \"\";width: 100%;border-bottom: 1px solid gray;flex-grow: 1;}#sk-container-id-2 div.sk-label:hover label.sk-toggleable__label {background-color: #d4ebff;}#sk-container-id-2 div.sk-serial::before {content: \"\";position: absolute;border-left: 1px solid gray;box-sizing: border-box;top: 0;bottom: 0;left: 50%;z-index: 0;}#sk-container-id-2 div.sk-serial {display: flex;flex-direction: column;align-items: center;background-color: white;padding-right: 0.2em;padding-left: 0.2em;position: relative;}#sk-container-id-2 div.sk-item {position: relative;z-index: 1;}#sk-container-id-2 div.sk-parallel {display: flex;align-items: stretch;justify-content: center;background-color: white;position: relative;}#sk-container-id-2 div.sk-item::before, #sk-container-id-2 div.sk-parallel-item::before {content: \"\";position: absolute;border-left: 1px solid gray;box-sizing: border-box;top: 0;bottom: 0;left: 50%;z-index: -1;}#sk-container-id-2 div.sk-parallel-item {display: flex;flex-direction: column;z-index: 1;position: relative;background-color: white;}#sk-container-id-2 div.sk-parallel-item:first-child::after {align-self: flex-end;width: 50%;}#sk-container-id-2 div.sk-parallel-item:last-child::after {align-self: flex-start;width: 50%;}#sk-container-id-2 div.sk-parallel-item:only-child::after {width: 0;}#sk-container-id-2 div.sk-dashed-wrapped {border: 1px dashed gray;margin: 0 0.4em 0.5em 0.4em;box-sizing: border-box;padding-bottom: 0.4em;background-color: white;}#sk-container-id-2 div.sk-label label {font-family: monospace;font-weight: bold;display: inline-block;line-height: 1.2em;}#sk-container-id-2 div.sk-label-container {text-align: center;}#sk-container-id-2 div.sk-container {/* jupyter's `normalize.less` sets `[hidden] { display: none; }` but bootstrap.min.css set `[hidden] { display: none !important; }` so we also need the `!important` here to be able to override the default hidden behavior on the sphinx rendered scikit-learn.org. See: https://github.com/scikit-learn/scikit-learn/issues/21755 */display: inline-block !important;position: relative;}#sk-container-id-2 div.sk-text-repr-fallback {display: none;}</style><div id=\"sk-container-id-2\" class=\"sk-top-container\"><div class=\"sk-text-repr-fallback\"><pre>RandomForestClassifier()</pre><b>In a Jupyter environment, please rerun this cell to show the HTML representation or trust the notebook. <br />On GitHub, the HTML representation is unable to render, please try loading this page with nbviewer.org.</b></div><div class=\"sk-container\" hidden><div class=\"sk-item\"><div class=\"sk-estimator sk-toggleable\"><input class=\"sk-toggleable__control sk-hidden--visually\" id=\"sk-estimator-id-2\" type=\"checkbox\" checked><label for=\"sk-estimator-id-2\" class=\"sk-toggleable__label sk-toggleable__label-arrow\">RandomForestClassifier</label><div class=\"sk-toggleable__content\"><pre>RandomForestClassifier()</pre></div></div></div></div></div>"
      ],
      "text/plain": [
       "RandomForestClassifier()"
      ]
     },
     "execution_count": 50,
     "metadata": {},
     "output_type": "execute_result"
    }
   ],
   "source": [
    "# WE WILL PREDICT THE HOW MANY ARE LABELLED 'INJECTION' ATTACK USING RANDOM FOREST\n",
    "y_train_inject=(y_train == 'injection')\n",
    "forest.fit(X_train,y_train_inject)"
   ]
  },
  {
   "cell_type": "code",
   "execution_count": 51,
   "metadata": {},
   "outputs": [],
   "source": [
    "y_cross_inject=cross_val_score(forest,X_train, y_train_inject, cv=10, scoring=\"accuracy\")"
   ]
  },
  {
   "cell_type": "code",
   "execution_count": 52,
   "metadata": {},
   "outputs": [
    {
     "data": {
      "text/plain": [
       "array([1., 1., 1., 1., 1., 1., 1., 1., 1., 1.])"
      ]
     },
     "execution_count": 52,
     "metadata": {},
     "output_type": "execute_result"
    }
   ],
   "source": [
    "y_cross_inject"
   ]
  },
  {
   "cell_type": "code",
   "execution_count": 53,
   "metadata": {},
   "outputs": [],
   "source": [
    "y_preds_inject = cross_val_predict(forest, X_train,y_train_inject, cv=5)"
   ]
  },
  {
   "cell_type": "code",
   "execution_count": 54,
   "metadata": {},
   "outputs": [
    {
     "data": {
      "text/plain": [
       "array([False, False, False, ..., False, False, False])"
      ]
     },
     "execution_count": 54,
     "metadata": {},
     "output_type": "execute_result"
    }
   ],
   "source": [
    "y_preds_inject"
   ]
  },
  {
   "cell_type": "code",
   "execution_count": 55,
   "metadata": {},
   "outputs": [
    {
     "data": {
      "text/plain": [
       "array([[885744]], dtype=int64)"
      ]
     },
     "execution_count": 55,
     "metadata": {},
     "output_type": "execute_result"
    }
   ],
   "source": [
    "confusion_matrix(y_train_inject, y_preds_inject)"
   ]
  },
  {
   "cell_type": "code",
   "execution_count": null,
   "metadata": {},
   "outputs": [],
   "source": []
  },
  {
   "cell_type": "code",
   "execution_count": 56,
   "metadata": {},
   "outputs": [
    {
     "data": {
      "text/html": [
       "<style>#sk-container-id-3 {color: black;background-color: white;}#sk-container-id-3 pre{padding: 0;}#sk-container-id-3 div.sk-toggleable {background-color: white;}#sk-container-id-3 label.sk-toggleable__label {cursor: pointer;display: block;width: 100%;margin-bottom: 0;padding: 0.3em;box-sizing: border-box;text-align: center;}#sk-container-id-3 label.sk-toggleable__label-arrow:before {content: \"▸\";float: left;margin-right: 0.25em;color: #696969;}#sk-container-id-3 label.sk-toggleable__label-arrow:hover:before {color: black;}#sk-container-id-3 div.sk-estimator:hover label.sk-toggleable__label-arrow:before {color: black;}#sk-container-id-3 div.sk-toggleable__content {max-height: 0;max-width: 0;overflow: hidden;text-align: left;background-color: #f0f8ff;}#sk-container-id-3 div.sk-toggleable__content pre {margin: 0.2em;color: black;border-radius: 0.25em;background-color: #f0f8ff;}#sk-container-id-3 input.sk-toggleable__control:checked~div.sk-toggleable__content {max-height: 200px;max-width: 100%;overflow: auto;}#sk-container-id-3 input.sk-toggleable__control:checked~label.sk-toggleable__label-arrow:before {content: \"▾\";}#sk-container-id-3 div.sk-estimator input.sk-toggleable__control:checked~label.sk-toggleable__label {background-color: #d4ebff;}#sk-container-id-3 div.sk-label input.sk-toggleable__control:checked~label.sk-toggleable__label {background-color: #d4ebff;}#sk-container-id-3 input.sk-hidden--visually {border: 0;clip: rect(1px 1px 1px 1px);clip: rect(1px, 1px, 1px, 1px);height: 1px;margin: -1px;overflow: hidden;padding: 0;position: absolute;width: 1px;}#sk-container-id-3 div.sk-estimator {font-family: monospace;background-color: #f0f8ff;border: 1px dotted black;border-radius: 0.25em;box-sizing: border-box;margin-bottom: 0.5em;}#sk-container-id-3 div.sk-estimator:hover {background-color: #d4ebff;}#sk-container-id-3 div.sk-parallel-item::after {content: \"\";width: 100%;border-bottom: 1px solid gray;flex-grow: 1;}#sk-container-id-3 div.sk-label:hover label.sk-toggleable__label {background-color: #d4ebff;}#sk-container-id-3 div.sk-serial::before {content: \"\";position: absolute;border-left: 1px solid gray;box-sizing: border-box;top: 0;bottom: 0;left: 50%;z-index: 0;}#sk-container-id-3 div.sk-serial {display: flex;flex-direction: column;align-items: center;background-color: white;padding-right: 0.2em;padding-left: 0.2em;position: relative;}#sk-container-id-3 div.sk-item {position: relative;z-index: 1;}#sk-container-id-3 div.sk-parallel {display: flex;align-items: stretch;justify-content: center;background-color: white;position: relative;}#sk-container-id-3 div.sk-item::before, #sk-container-id-3 div.sk-parallel-item::before {content: \"\";position: absolute;border-left: 1px solid gray;box-sizing: border-box;top: 0;bottom: 0;left: 50%;z-index: -1;}#sk-container-id-3 div.sk-parallel-item {display: flex;flex-direction: column;z-index: 1;position: relative;background-color: white;}#sk-container-id-3 div.sk-parallel-item:first-child::after {align-self: flex-end;width: 50%;}#sk-container-id-3 div.sk-parallel-item:last-child::after {align-self: flex-start;width: 50%;}#sk-container-id-3 div.sk-parallel-item:only-child::after {width: 0;}#sk-container-id-3 div.sk-dashed-wrapped {border: 1px dashed gray;margin: 0 0.4em 0.5em 0.4em;box-sizing: border-box;padding-bottom: 0.4em;background-color: white;}#sk-container-id-3 div.sk-label label {font-family: monospace;font-weight: bold;display: inline-block;line-height: 1.2em;}#sk-container-id-3 div.sk-label-container {text-align: center;}#sk-container-id-3 div.sk-container {/* jupyter's `normalize.less` sets `[hidden] { display: none; }` but bootstrap.min.css set `[hidden] { display: none !important; }` so we also need the `!important` here to be able to override the default hidden behavior on the sphinx rendered scikit-learn.org. See: https://github.com/scikit-learn/scikit-learn/issues/21755 */display: inline-block !important;position: relative;}#sk-container-id-3 div.sk-text-repr-fallback {display: none;}</style><div id=\"sk-container-id-3\" class=\"sk-top-container\"><div class=\"sk-text-repr-fallback\"><pre>RandomForestClassifier()</pre><b>In a Jupyter environment, please rerun this cell to show the HTML representation or trust the notebook. <br />On GitHub, the HTML representation is unable to render, please try loading this page with nbviewer.org.</b></div><div class=\"sk-container\" hidden><div class=\"sk-item\"><div class=\"sk-estimator sk-toggleable\"><input class=\"sk-toggleable__control sk-hidden--visually\" id=\"sk-estimator-id-3\" type=\"checkbox\" checked><label for=\"sk-estimator-id-3\" class=\"sk-toggleable__label sk-toggleable__label-arrow\">RandomForestClassifier</label><div class=\"sk-toggleable__content\"><pre>RandomForestClassifier()</pre></div></div></div></div></div>"
      ],
      "text/plain": [
       "RandomForestClassifier()"
      ]
     },
     "execution_count": 56,
     "metadata": {},
     "output_type": "execute_result"
    }
   ],
   "source": [
    "# Show TPR, FPR, TNR and TPR for the \"Impersonation \" attack using the Random Forest Algorithm\n",
    "y_train_imperson=(y_train == 'impersonation')\n",
    "forest.fit(X_train,y_train_imperson)"
   ]
  },
  {
   "cell_type": "code",
   "execution_count": 57,
   "metadata": {},
   "outputs": [],
   "source": [
    "y_cross_imperson=cross_val_score(forest,X_train, y_train_imperson, cv=10, scoring=\"accuracy\")"
   ]
  },
  {
   "cell_type": "code",
   "execution_count": 58,
   "metadata": {},
   "outputs": [
    {
     "data": {
      "text/plain": [
       "array([1., 1., 1., 1., 1., 1., 1., 1., 1., 1.])"
      ]
     },
     "execution_count": 58,
     "metadata": {},
     "output_type": "execute_result"
    }
   ],
   "source": [
    "y_cross_imperson"
   ]
  },
  {
   "cell_type": "code",
   "execution_count": 59,
   "metadata": {},
   "outputs": [],
   "source": [
    "y_preds_imperson = cross_val_predict(forest, X_train,y_train_imperson, cv=5)"
   ]
  },
  {
   "cell_type": "code",
   "execution_count": 60,
   "metadata": {},
   "outputs": [
    {
     "data": {
      "text/plain": [
       "array([False, False, False, ..., False, False, False])"
      ]
     },
     "execution_count": 60,
     "metadata": {},
     "output_type": "execute_result"
    }
   ],
   "source": [
    "y_preds_imperson"
   ]
  },
  {
   "cell_type": "code",
   "execution_count": 61,
   "metadata": {},
   "outputs": [
    {
     "data": {
      "text/plain": [
       "array([[885744]], dtype=int64)"
      ]
     },
     "execution_count": 61,
     "metadata": {},
     "output_type": "execute_result"
    }
   ],
   "source": [
    "confusion_matrix(y_train_imperson, y_preds_imperson)"
   ]
  },
  {
   "cell_type": "code",
   "execution_count": null,
   "metadata": {},
   "outputs": [],
   "source": []
  },
  {
   "cell_type": "markdown",
   "metadata": {},
   "source": [
    "<h2>ROC_CURVE Graph for Random Forest Algorithm </h2>"
   ]
  },
  {
   "cell_type": "code",
   "execution_count": 62,
   "metadata": {},
   "outputs": [],
   "source": [
    "y_score_forest=cross_val_predict(forest, X_train, y_train_norm, cv=10)"
   ]
  },
  {
   "cell_type": "code",
   "execution_count": 63,
   "metadata": {},
   "outputs": [],
   "source": [
    "fpr, tpr, thresholds=roc_curve (y_train_norm, y_score_forest)"
   ]
  },
  {
   "cell_type": "code",
   "execution_count": 64,
   "metadata": {},
   "outputs": [],
   "source": [
    "def plot_roc_curve(fpr, tpr, label=None):\n",
    "    plt.plot(fpr,tpr, linewidth=2, label=label)\n",
    "    plt.plot([0,1],[0,1],'k--')\n",
    "    plt.xlabel(\"False Positive Rate\")\n",
    "    plt.ylabel(\"True Positive rate (Recall)\")\n",
    "    plt.legend(loc=\"upper right\")\n",
    "    \n"
   ]
  },
  {
   "cell_type": "code",
   "execution_count": 65,
   "metadata": {
    "scrolled": true
   },
   "outputs": [
    {
     "name": "stderr",
     "output_type": "stream",
     "text": [
      "No artists with labels found to put in legend.  Note that artists whose label start with an underscore are ignored when legend() is called with no argument.\n"
     ]
    },
    {
     "data": {
      "image/png": "[encoded data removed]",
      "text/plain": [
       "<Figure size 640x480 with 1 Axes>"
      ]
     },
     "metadata": {},
     "output_type": "display_data"
    }
   ],
   "source": [
    "plot_roc_curve(fpr,tpr)\n",
    "plt.show()"
   ]
  },
  {
   "cell_type": "code",
   "execution_count": 66,
   "metadata": {},
   "outputs": [
    {
     "data": {
      "text/plain": [
       "0.9788555265051326"
      ]
     },
     "execution_count": 66,
     "metadata": {},
     "output_type": "execute_result"
    }
   ],
   "source": [
    "roc_auc_score(y_train_norm, y_score_forest)"
   ]
  },
  {
   "cell_type": "markdown",
   "metadata": {},
   "source": [
    "<h2>ROC_CURVE Graph for Decision Tree </h2>"
   ]
  },
  {
   "cell_type": "code",
   "execution_count": 67,
   "metadata": {},
   "outputs": [],
   "source": [
    "y_score_tree=cross_val_predict(tree, X_train, y_train_norm, cv=10)"
   ]
  },
  {
   "cell_type": "code",
   "execution_count": 68,
   "metadata": {},
   "outputs": [],
   "source": [
    "fpr1, tpr1,thresholds1 =roc_curve(y_train_norm,y_score_tree)"
   ]
  },
  {
   "cell_type": "code",
   "execution_count": 69,
   "metadata": {},
   "outputs": [],
   "source": [
    "def plot_roc_curve(fpr, tpr, label=None):\n",
    "    plt.plot(fpr1,tpr1, linewidth=1, label=label)\n",
    "    plt.plot([0,1],[0,1],'k--')\n",
    "    plt.xlabel(\"False Positive Rate\")\n",
    "    plt.ylabel(\"True Positive rate (Recall)\")\n",
    "    plt.legend(loc=\"upper right\")\n",
    "    \n"
   ]
  },
  {
   "cell_type": "code",
   "execution_count": 70,
   "metadata": {
    "scrolled": false
   },
   "outputs": [
    {
     "name": "stderr",
     "output_type": "stream",
     "text": [
      "No artists with labels found to put in legend.  Note that artists whose label start with an underscore are ignored when legend() is called with no argument.\n"
     ]
    },
    {
     "data": {
      "image/png": "[encoded data removed]",
      "text/plain": [
       "<Figure size 640x480 with 1 Axes>"
      ]
     },
     "metadata": {},
     "output_type": "display_data"
    }
   ],
   "source": [
    "plot_roc_curve(fpr1,tpr1)\n",
    "plt.show()"
   ]
  },
  {
   "cell_type": "code",
   "execution_count": 71,
   "metadata": {},
   "outputs": [
    {
     "data": {
      "text/plain": [
       "0.9601725347145106"
      ]
     },
     "execution_count": 71,
     "metadata": {},
     "output_type": "execute_result"
    }
   ],
   "source": [
    "roc_auc_score(y_train_norm,y_score_tree)"
   ]
  },
  {
   "cell_type": "markdown",
   "metadata": {},
   "source": [
    "<h2>Precision/Recall and F1-score using Classification Report</h2>"
   ]
  },
  {
   "cell_type": "code",
   "execution_count": 72,
   "metadata": {},
   "outputs": [],
   "source": [
    "tree_class_report = classification_report(y_train_norm, y_score_tree)\n",
    "forest_class_report =classification_report(y_train_norm, y_score_forest)"
   ]
  },
  {
   "cell_type": "code",
   "execution_count": 73,
   "metadata": {
    "scrolled": true
   },
   "outputs": [
    {
     "name": "stdout",
     "output_type": "stream",
     "text": [
      "              precision    recall  f1-score   support\n",
      "\n",
      "       False       0.78      0.96      0.86    110110\n",
      "        True       0.99      0.96      0.98    775634\n",
      "\n",
      "    accuracy                           0.96    885744\n",
      "   macro avg       0.88      0.96      0.92    885744\n",
      "weighted avg       0.97      0.96      0.96    885744\n",
      "\n"
     ]
    }
   ],
   "source": [
    "print(tree_class_report)"
   ]
  },
  {
   "cell_type": "code",
   "execution_count": 74,
   "metadata": {},
   "outputs": [
    {
     "name": "stdout",
     "output_type": "stream",
     "text": [
      "              precision    recall  f1-score   support\n",
      "\n",
      "       False       0.80      0.99      0.88    110110\n",
      "        True       1.00      0.96      0.98    775634\n",
      "\n",
      "    accuracy                           0.97    885744\n",
      "   macro avg       0.90      0.98      0.93    885744\n",
      "weighted avg       0.97      0.97      0.97    885744\n",
      "\n"
     ]
    }
   ],
   "source": [
    "print(forest_class_report)"
   ]
  },
  {
   "cell_type": "code",
   "execution_count": 75,
   "metadata": {},
   "outputs": [],
   "source": [
    "#Trying to use KMeans Unsupervised Learning Algorithm\n",
    "# Since the data was labelled, we get good result using the supervised learning Algorithm \n",
    "#and with Classification techniques"
   ]
  },
  {
   "cell_type": "code",
   "execution_count": 82,
   "metadata": {},
   "outputs": [
    {
     "name": "stderr",
     "output_type": "stream",
     "text": [
      "C:\\Users\\LENONVO\\AppData\\Local\\Packages\\PythonSoftwareFoundation.Python.3.10_qbz5n2kfra8p0\\LocalCache\\local-packages\\Python310\\site-packages\\sklearn\\cluster\\_kmeans.py:870: FutureWarning: The default value of `n_init` will change from 10 to 'auto' in 1.4. Set the value of `n_init` explicitly to suppress the warning\n",
      "  warnings.warn(\n"
     ]
    }
   ],
   "source": [
    "from sklearn.cluster import KMeans\n",
    "kmeans= KMeans(n_clusters=5)\n",
    "               \n",
    "kmeans=kmeans.fit(X_train)"
   ]
  },
  {
   "cell_type": "code",
   "execution_count": 83,
   "metadata": {},
   "outputs": [],
   "source": [
    "labels=kmeans.predict(X_train)"
   ]
  },
  {
   "cell_type": "code",
   "execution_count": 84,
   "metadata": {},
   "outputs": [
    {
     "data": {
      "text/plain": [
       "array([2, 2, 2, ..., 1, 1, 1])"
      ]
     },
     "execution_count": 84,
     "metadata": {},
     "output_type": "execute_result"
    }
   ],
   "source": [
    "kmeans.labels_"
   ]
  },
  {
   "cell_type": "code",
   "execution_count": 87,
   "metadata": {},
   "outputs": [],
   "source": [
    "target_names=['arp', 'chop_chop', 'fragmentation', 'hirte', 'normal']"
   ]
  },
  {
   "cell_type": "code",
   "execution_count": 88,
   "metadata": {},
   "outputs": [
    {
     "name": "stderr",
     "output_type": "stream",
     "text": [
      "C:\\Users\\LENONVO\\AppData\\Local\\Packages\\PythonSoftwareFoundation.Python.3.10_qbz5n2kfra8p0\\LocalCache\\local-packages\\Python310\\site-packages\\sklearn\\metrics\\_classification.py:1344: UndefinedMetricWarning: Recall and F-score are ill-defined and being set to 0.0 in labels with no true samples. Use `zero_division` parameter to control this behavior.\n",
      "  _warn_prf(average, modifier, msg_start, len(result))\n",
      "C:\\Users\\LENONVO\\AppData\\Local\\Packages\\PythonSoftwareFoundation.Python.3.10_qbz5n2kfra8p0\\LocalCache\\local-packages\\Python310\\site-packages\\sklearn\\metrics\\_classification.py:1344: UndefinedMetricWarning: Recall and F-score are ill-defined and being set to 0.0 in labels with no true samples. Use `zero_division` parameter to control this behavior.\n",
      "  _warn_prf(average, modifier, msg_start, len(result))\n"
     ]
    },
    {
     "name": "stdout",
     "output_type": "stream",
     "text": [
      "               precision    recall  f1-score   support\n",
      "\n",
      "          arp       0.45      0.51      0.48     64609\n",
      "    chop_chop       0.00      0.00      0.00     44731\n",
      "fragmentation       0.00      0.00      0.00       770\n",
      "        hirte       0.88      0.42      0.57    775634\n",
      "       normal       0.00      0.00      0.00         0\n",
      "\n",
      "     accuracy                           0.41    885744\n",
      "    macro avg       0.27      0.19      0.21    885744\n",
      " weighted avg       0.80      0.41      0.53    885744\n",
      "\n"
     ]
    },
    {
     "name": "stderr",
     "output_type": "stream",
     "text": [
      "C:\\Users\\LENONVO\\AppData\\Local\\Packages\\PythonSoftwareFoundation.Python.3.10_qbz5n2kfra8p0\\LocalCache\\local-packages\\Python310\\site-packages\\sklearn\\metrics\\_classification.py:1344: UndefinedMetricWarning: Recall and F-score are ill-defined and being set to 0.0 in labels with no true samples. Use `zero_division` parameter to control this behavior.\n",
      "  _warn_prf(average, modifier, msg_start, len(result))\n"
     ]
    }
   ],
   "source": [
    "print(classification_report(encoded_y, kmeans.labels_,target_names=target_names))"
   ]
  }
 ],
 "metadata": {
  "kernelspec": {
   "display_name": "Python 3",
   "language": "python",
   "name": "python3"
  },
  "language_info": {
   "codemirror_mode": {
    "name": "ipython",
    "version": 3
   },
   "file_extension": ".py",
   "mimetype": "text/x-python",
   "name": "python",
   "nbconvert_exporter": "python",
   "pygments_lexer": "ipython3",
   "version": "3.10.10"
  }
 },
 "nbformat": 4,
 "nbformat_minor": 4
}
